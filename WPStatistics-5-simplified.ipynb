{
 "cells": [
  {
   "cell_type": "code",
   "execution_count": 1,
   "metadata": {
    "collapsed": true
   },
   "outputs": [],
   "source": [
    "import ee\n",
    "from IPython import display\n",
    "from IPython.display import Image\n",
    "import math\n",
    "import matplotlib.pyplot as plt\n",
    "from osgeo import gdal\n",
    "import tempfile\n",
    "import urllib\n",
    "import zipfile\n",
    "from mpl_toolkits.basemap import Basemap\n",
    "import numpy as np\n",
    "import datetime\n",
    "import pandas as pd"
   ]
  },
  {
   "cell_type": "code",
   "execution_count": 2,
   "metadata": {
    "collapsed": true
   },
   "outputs": [],
   "source": [
    "ee.Initialize()\n",
    "\n",
    "# VETTORI 1EGLF7Gh-5Z3Zt9pxdKF-jBDtxQ-DnpJzz9D1BGQJ\n",
    "countries_gaul = ee.FeatureCollection('ft:1ZDEMjtnWm_smu7l_z3fx91BbxyCRzP2A3cEMrEiP')\n",
    "\n",
    "# AREA OF INTEREST\n",
    "region_L1 = ee.Geometry.Polygon([[[-30, -40], [65, -30], [65, 40], [-30, 40]]])\n",
    "region_json= [[-30, -40], [65, -30], [65, 40], [-30, 40]]\n",
    "\n",
    "subregions = {\n",
    "  'na': 'Northern Africa',\n",
    "  'ma': 'Middle Africa',\n",
    "  'wa': 'Western Africa', \n",
    "  'ea': 'Eastern Africa',\n",
    "  'sa': 'Southern Africa', \n",
    "  'ws': 'Western Asia'\n",
    "}"
   ]
  },
  {
   "cell_type": "code",
   "execution_count": null,
   "metadata": {},
   "outputs": [],
   "source": [
    "subregion = 'ws'\n",
    "year = 2010\n",
    "name_asset = 'T_Annual'\n",
    "selected_subregion = subregions[subregion]\n",
    "filtered = countries_gaul.filter(ee.Filter.eq('subregion', selected_subregion))\n",
    "country_number = filtered.size().getInfo()\n",
    "print(country_number)\n",
    "#for indice in range(0,country_number):\n",
    "#    print(indice,filtered.getInfo()['features'][indice]['properties']['name'])\n",
    "radice = 'projects/fao-wapor/'\n",
    "raster_name = radice + name_asset + \"/\" + name_asset + \"-\" + str(year)\n",
    "print(raster_name)\n",
    "prefix = raster_name.split(\"/\")[2]\n",
    "raster_stats = ee.Image(raster_name).toFloat()\n",
    "scale_calc = ee.Image(raster_stats).projection().nominalScale().getInfo()\n",
    "print('Image scale: ', scale_calc)"
   ]
  },
  {
   "cell_type": "code",
   "execution_count": 142,
   "metadata": {
    "collapsed": true
   },
   "outputs": [],
   "source": [
    "means = raster_stats.reduceRegions(\n",
    "    collection = filtered,\n",
    "    reducer = ee.Reducer.mean(),\n",
    "    scale = scale_calc,\n",
    ")\n",
    "\n",
    "reducers = ee.Reducer.minMax().combine(\n",
    "    reducer2 = ee.Reducer.sum(),\n",
    "    sharedInputs = True\n",
    ");\n",
    "\n",
    "minMaxStds = raster_stats.reduceRegions(\n",
    "            collection = filtered,\n",
    "            reducer = reducers,\n",
    "            scale = scale_calc,\n",
    ");"
   ]
  },
  {
   "cell_type": "code",
   "execution_count": 143,
   "metadata": {},
   "outputs": [
    {
     "data": {
      "text/html": [
       "<div>\n",
       "<table border=\"1\" class=\"dataframe\">\n",
       "  <thead>\n",
       "    <tr style=\"text-align: right;\">\n",
       "      <th></th>\n",
       "      <th>gaul_code</th>\n",
       "      <th>iso3</th>\n",
       "      <th>mean</th>\n",
       "      <th>name</th>\n",
       "      <th>region</th>\n",
       "      <th>subregion</th>\n",
       "      <th>min</th>\n",
       "      <th>max</th>\n",
       "      <th>sum</th>\n",
       "    </tr>\n",
       "    <tr>\n",
       "      <th>fid</th>\n",
       "      <th></th>\n",
       "      <th></th>\n",
       "      <th></th>\n",
       "      <th></th>\n",
       "      <th></th>\n",
       "      <th></th>\n",
       "      <th></th>\n",
       "      <th></th>\n",
       "      <th></th>\n",
       "    </tr>\n",
       "  </thead>\n",
       "  <tbody>\n",
       "    <tr>\n",
       "      <th>140.0</th>\n",
       "      <td>142.0</td>\n",
       "      <td>LSO</td>\n",
       "      <td>244.489958</td>\n",
       "      <td>Lesotho</td>\n",
       "      <td>Africa</td>\n",
       "      <td>Southern Africa</td>\n",
       "      <td>0.0</td>\n",
       "      <td>1227.203979</td>\n",
       "      <td>1.391475e+08</td>\n",
       "    </tr>\n",
       "    <tr>\n",
       "      <th>35.0</th>\n",
       "      <td>35.0</td>\n",
       "      <td>BWA</td>\n",
       "      <td>506.877511</td>\n",
       "      <td>Botswana</td>\n",
       "      <td>Africa</td>\n",
       "      <td>Southern Africa</td>\n",
       "      <td>0.0</td>\n",
       "      <td>2394.580078</td>\n",
       "      <td>5.154604e+09</td>\n",
       "    </tr>\n",
       "    <tr>\n",
       "      <th>169.0</th>\n",
       "      <td>172.0</td>\n",
       "      <td>NAM</td>\n",
       "      <td>278.069546</td>\n",
       "      <td>Namibia</td>\n",
       "      <td>Africa</td>\n",
       "      <td>Southern Africa</td>\n",
       "      <td>0.0</td>\n",
       "      <td>2247.160889</td>\n",
       "      <td>4.031718e+09</td>\n",
       "    </tr>\n",
       "    <tr>\n",
       "      <th>223.0</th>\n",
       "      <td>227.0</td>\n",
       "      <td>ZAF</td>\n",
       "      <td>328.322407</td>\n",
       "      <td>South Africa</td>\n",
       "      <td>Africa</td>\n",
       "      <td>Southern Africa</td>\n",
       "      <td>0.0</td>\n",
       "      <td>2420.906006</td>\n",
       "      <td>7.450067e+09</td>\n",
       "    </tr>\n",
       "    <tr>\n",
       "      <th>230.0</th>\n",
       "      <td>235.0</td>\n",
       "      <td>SWZ</td>\n",
       "      <td>676.646543</td>\n",
       "      <td>Swaziland</td>\n",
       "      <td>Africa</td>\n",
       "      <td>Southern Africa</td>\n",
       "      <td>0.0</td>\n",
       "      <td>1742.990967</td>\n",
       "      <td>2.127160e+08</td>\n",
       "    </tr>\n",
       "  </tbody>\n",
       "</table>\n",
       "</div>"
      ],
      "text/plain": [
       "       gaul_code iso3        mean          name  region        subregion  min  \\\n",
       "fid                                                                             \n",
       "140.0      142.0  LSO  244.489958       Lesotho  Africa  Southern Africa  0.0   \n",
       "35.0        35.0  BWA  506.877511      Botswana  Africa  Southern Africa  0.0   \n",
       "169.0      172.0  NAM  278.069546       Namibia  Africa  Southern Africa  0.0   \n",
       "223.0      227.0  ZAF  328.322407  South Africa  Africa  Southern Africa  0.0   \n",
       "230.0      235.0  SWZ  676.646543     Swaziland  Africa  Southern Africa  0.0   \n",
       "\n",
       "               max           sum  \n",
       "fid                               \n",
       "140.0  1227.203979  1.391475e+08  \n",
       "35.0   2394.580078  5.154604e+09  \n",
       "169.0  2247.160889  4.031718e+09  \n",
       "223.0  2420.906006  7.450067e+09  \n",
       "230.0  1742.990967  2.127160e+08  "
      ]
     },
     "execution_count": 143,
     "metadata": {},
     "output_type": "execute_result"
    }
   ],
   "source": [
    "features_m = means.getInfo()['features']\n",
    "features_mms = minMaxStds.getInfo()['features']\n",
    "df_m = pd.DataFrame(data=features_m[0:], columns = features_m[0])\n",
    "df_mms = pd.DataFrame(data=features_mms[0:], columns = features_mms[0])\n",
    "serie_m = df_m['properties'].apply(pd.Series)\n",
    "serie_mms = df_mms['properties'].apply(pd.Series)\n",
    "df_m = pd.DataFrame(serie_m[['fid', 'gaul_code', 'iso3', 'mean', 'name', 'region','subregion']])\n",
    "df_mms = pd.DataFrame(serie_mms[['fid', 'min', 'max','sum']])\n",
    "df_stats = df_m.set_index('fid').join(df_mms.set_index('fid'), lsuffix='_df_m', rsuffix='_df_mms')\n",
    "df_stats"
   ]
  },
  {
   "cell_type": "code",
   "execution_count": 144,
   "metadata": {
    "collapsed": true
   },
   "outputs": [],
   "source": [
    "file_name = name_asset + \"_\" + str(year) + \"_\" + subregion # + prefix.lower()\n",
    "file_name\n",
    "df_stats.to_csv('stats/' + file_name + '.csv')"
   ]
  },
  {
   "cell_type": "code",
   "execution_count": null,
   "metadata": {
    "collapsed": true
   },
   "outputs": [],
   "source": []
  }
 ],
 "metadata": {
  "kernelspec": {
   "display_name": "Python 2",
   "language": "python",
   "name": "python2"
  },
  "language_info": {
   "codemirror_mode": {
    "name": "ipython",
    "version": 2
   },
   "file_extension": ".py",
   "mimetype": "text/x-python",
   "name": "python",
   "nbconvert_exporter": "python",
   "pygments_lexer": "ipython2",
   "version": "2.7.12"
  }
 },
 "nbformat": 4,
 "nbformat_minor": 2
}
