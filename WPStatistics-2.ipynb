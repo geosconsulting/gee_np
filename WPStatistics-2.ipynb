{
 "cells": [
  {
   "cell_type": "code",
   "execution_count": 2,
   "metadata": {
    "collapsed": true,
    "deletable": true,
    "editable": true
   },
   "outputs": [],
   "source": [
    "import ee\n",
    "from IPython import display\n",
    "from IPython.display import Image\n",
    "import math\n",
    "import matplotlib.pyplot as plt\n",
    "from osgeo import gdal\n",
    "import tempfile\n",
    "import urllib\n",
    "import zipfile\n",
    "from mpl_toolkits.basemap import Basemap\n",
    "import numpy as np\n",
    "import datetime"
   ]
  },
  {
   "cell_type": "code",
   "execution_count": 52,
   "metadata": {
    "collapsed": false,
    "deletable": true,
    "editable": true
   },
   "outputs": [],
   "source": [
    "ee.Initialize()\n",
    "\n",
    "# VETTORI\n",
    "countries = ee.FeatureCollection('ft:1tdSwUL7MVpOauSgRzqVTOwdfy17KDbw-1d9omPw')\n",
    "wsheds = ee.FeatureCollection('ft:1IXfrLpTHX4dtdj1LcNXjJADBB-d93rkdJ9acSEWK')"
   ]
  },
  {
   "cell_type": "code",
   "execution_count": 53,
   "metadata": {
    "collapsed": false,
    "deletable": true,
    "editable": true
   },
   "outputs": [],
   "source": [
    "# AREA OF INTEREST\n",
    "region = [[-25.0, -40.0], [65.0, -40.0], [65.0, 40.0], [-30.0, 40.0], [-30.0, -40.0]]"
   ]
  },
  {
   "cell_type": "code",
   "execution_count": 54,
   "metadata": {
    "collapsed": false,
    "deletable": true,
    "editable": true
   },
   "outputs": [],
   "source": [
    "wpbm_stats = ee.Image('projects/fao-wapor/L1-WPbmY2015-sample');"
   ]
  },
  {
   "cell_type": "code",
   "execution_count": 55,
   "metadata": {
    "collapsed": true,
    "deletable": true,
    "editable": true
   },
   "outputs": [],
   "source": [
    "def vizualize_image(wbpm,regione_plot,scala):    \n",
    "    visparams = {\"opacity\":1,\n",
    "             \"min\":0,\n",
    "             \"max\":1.2,\n",
    "             \"palette\":\"bc170f,e97a1a,fff83a,9bff40,5cb326\",\n",
    "             \"region\": regione_plot,\n",
    "             \"scale\" : scala}\n",
    "    \n",
    "    url_WPbm = wbpm.getThumbUrl(visparams)\n",
    "    return url_WPbm"
   ]
  },
  {
   "cell_type": "code",
   "execution_count": 56,
   "metadata": {
    "collapsed": true,
    "deletable": true,
    "editable": true
   },
   "outputs": [],
   "source": [
    "%matplotlib inline  "
   ]
  },
  {
   "cell_type": "code",
   "execution_count": 57,
   "metadata": {
    "collapsed": false,
    "deletable": true,
    "editable": true
   },
   "outputs": [
    {
     "data": {
      "text/html": [
       "<img src=\"https://earthengine.googleapis.com/api/thumb?thumbid=f4ae0ad1ff454e97d82d761779e3bf0f&token=39bc3618fdcd82d38778e830a797ac94\"/>"
      ],
      "text/plain": [
       "<IPython.core.display.Image object>"
      ]
     },
     "execution_count": 57,
     "metadata": {},
     "output_type": "execute_result"
    }
   ],
   "source": [
    "Image(url=vizualize_image(wpbm_stats,region,250))\n"
   ]
  },
  {
   "cell_type": "markdown",
   "metadata": {
    "deletable": true,
    "editable": true
   },
   "source": [
    "# Statistiche WPbm per paese e anno"
   ]
  },
  {
   "cell_type": "code",
   "execution_count": 58,
   "metadata": {
    "collapsed": false,
    "deletable": true,
    "editable": true
   },
   "outputs": [],
   "source": [
    "africa_bbox = ee.Geometry.Rectangle(-15.64, -33.58, 59.06, 25.96)\n",
    "filtered = countries.filterBounds(africa_bbox)"
   ]
  },
  {
   "cell_type": "code",
   "execution_count": 59,
   "metadata": {
    "collapsed": false,
    "deletable": true,
    "editable": true
   },
   "outputs": [
    {
     "data": {
      "text/plain": [
       "('Count after filtering by size:', 167)"
      ]
     },
     "execution_count": 59,
     "metadata": {},
     "output_type": "execute_result"
    }
   ],
   "source": [
    "largeSheds = wsheds.filter(ee.Filter.gt('AreaSqKm', 25000))\n",
    "'Count after filtering by size:', largeSheds.size().getInfo()"
   ]
  },
  {
   "cell_type": "code",
   "execution_count": 66,
   "metadata": {
    "collapsed": false,
    "deletable": true,
    "editable": true
   },
   "outputs": [
    {
     "data": {
      "text/plain": [
       "{'max': 3.7759787530379403, 'min': 0.0, 'std': 0.23828625422463104}"
      ]
     },
     "execution_count": 66,
     "metadata": {},
     "output_type": "execute_result"
    }
   ],
   "source": [
    "nomeCountry = 'Sudan'\n",
    "justCountry = countries.filter(ee.Filter.eq('Country', nomeCountry))\n",
    "cutPoly = justCountry.geometry() \n",
    "cutBoundingBox = cutPoly.bounds(1)\n",
    "\n",
    "country_mean = wpbm_stats.reduceRegion(\n",
    "    reducer = ee.Reducer.mean(),\n",
    "    geometry = cutPoly,\n",
    "    scale = 250,\n",
    "    maxPixels = 1e9\n",
    ")\n",
    "mean = country_mean.getInfo()\n",
    "mean['mean'] = mean.pop('b1')\n",
    "\n",
    "reducers = ee.Reducer.minMax().combine(\n",
    "  reducer2 = ee.Reducer.stdDev(),\n",
    "  sharedInputs = True\n",
    ")\n",
    "\n",
    "# Use the combined reducer to get the min max and SD of the image.\n",
    "stats = wpbm_stats.reduceRegion(\n",
    "  reducer = reducers,\n",
    "  bestEffort = True,\n",
    "  geometry = cutPoly,\n",
    "  scale = 250,\n",
    ")\n",
    "\n",
    "# Display the dictionary of band means and SDs.\n",
    "min_max_std = stats.getInfo()\n",
    "min_max_std['min'] = min_max_std.pop('b1_min')\n",
    "min_max_std['std'] = min_max_std.pop('b1_stdDev')\n",
    "min_max_std['max'] = min_max_std.pop('b1_max')\n",
    "min_max_std"
   ]
  },
  {
   "cell_type": "code",
   "execution_count": 67,
   "metadata": {
    "collapsed": false,
    "deletable": true,
    "editable": true
   },
   "outputs": [],
   "source": [
    "means = wpbm_stats.reduceRegions(\n",
    "    collection = filtered,\n",
    "    reducer = ee.Reducer.mean(),\n",
    "    scale = 250,\n",
    "  );\n",
    "means_data_by_country = means.getInfo()"
   ]
  },
  {
   "cell_type": "code",
   "execution_count": 68,
   "metadata": {
    "collapsed": false,
    "deletable": true,
    "editable": true
   },
   "outputs": [
    {
     "data": {
      "text/plain": [
       "{u'Country': u'String', u'mean': u'Float'}"
      ]
     },
     "execution_count": 68,
     "metadata": {},
     "output_type": "execute_result"
    }
   ],
   "source": [
    "means_data_by_country['columns']"
   ]
  },
  {
   "cell_type": "code",
   "execution_count": 69,
   "metadata": {
    "collapsed": false,
    "deletable": true,
    "editable": true
   },
   "outputs": [
    {
     "data": {
      "text/plain": [
       "{u'Country': u'Sudan', u'mean': 0.3441472837191009}"
      ]
     },
     "execution_count": 69,
     "metadata": {},
     "output_type": "execute_result"
    }
   ],
   "source": [
    "means_data_by_country['features'][12]['properties']"
   ]
  },
  {
   "cell_type": "code",
   "execution_count": 70,
   "metadata": {
    "collapsed": false,
    "deletable": true,
    "editable": true
   },
   "outputs": [],
   "source": [
    "numero_record = means.size().getInfo()"
   ]
  },
  {
   "cell_type": "code",
   "execution_count": 71,
   "metadata": {
    "collapsed": false,
    "deletable": true,
    "editable": true
   },
   "outputs": [
    {
     "name": "stdout",
     "output_type": "stream",
     "text": [
      "{u'Country': u'Rwanda', u'mean': 1.164326739511026}\n",
      "{u'Country': u'Algeria', u'mean': 0.6808311929594619}\n",
      "{u'Country': u'Sao Tome and Principe', u'mean': 1.8499667638270114}\n",
      "{u'Country': u'Saudi Arabia', u'mean': 0.08668989420929085}\n",
      "{u'Country': u'Senegal', u'mean': 0.2662467370405937}\n",
      "{u'Country': u'Angola', u'mean': 0.9876436615908387}\n",
      "{u'Country': u'Seychelles', u'mean': 1.2708032507791445}\n",
      "{u'Country': u'Sierra Leone', u'mean': 0.7396157895931031}\n",
      "{u'Country': u'Somalia', u'mean': 0.21821301853499758}\n",
      "{u'Country': u'South Africa', u'mean': 0.7950867834063201}\n",
      "{u'Country': u'Bahrain', u'mean': 0.06349408950078336}\n",
      "{u'Country': u'Benin', u'mean': 0.4013888918232613}\n",
      "{u'Country': u'Sudan', u'mean': 0.3441472837191009}\n",
      "{u'Country': u'Swaziland', u'mean': 0.8651705265546427}\n",
      "{u'Country': u'Botswana', u'mean': 0.5291074103279041}\n",
      "{u'Country': u'Burkina Faso', u'mean': 0.2569482956833182}\n",
      "{u'Country': u'Tanzania, United Republic of', u'mean': 1.0916336193920029}\n",
      "{u'Country': u'Burundi', u'mean': 1.2717651083891208}\n",
      "{u'Country': u'Togo', u'mean': 0.5009234837299112}\n",
      "{u'Country': u'Cameroon', u'mean': 0.9653060363475336}\n",
      "{u'Country': u'Tunisia', u'mean': 0.6497661846472799}\n",
      "{u'Country': u'Central African Republic', u'mean': 0.5990723852878027}\n",
      "{u'Country': u'Chad', u'mean': 0.23415494232570255}\n",
      "{u'Country': u'Uganda', u'mean': 1.0068508253579362}\n",
      "{u'Country': u'United Arab Emirates', u'mean': 0.06492741609065637}\n",
      "{u'Country': u'Comoros', u'mean': 1.7008051448824404}\n",
      "{u'Country': u'Congo', u'mean': 1.0096439362006397}\n",
      "{u'Country': u'Western Sahara', u'mean': 0.24231520156964048}\n",
      "{u'Country': u'Djibouti', u'mean': 0.0505053051974659}\n",
      "{u'Country': u'Yemen', u'mean': 0.1810328195651576}\n",
      "{u'Country': u'Zaire', u'mean': 1.029142860248185}\n",
      "{u'Country': u'Egypt', u'mean': 0.3777075108871001}\n",
      "{u'Country': u'Zambia', u'mean': 1.468061406381678}\n",
      "{u'Country': u'Zimbabwe', u'mean': 1.1090339419974151}\n",
      "{u'Country': u'Equatorial Guinea', u'mean': 1.1308893189732803}\n",
      "{u'Country': u'Eritrea', u'mean': 0.24989868140656515}\n",
      "{u'Country': u'Ethiopia', u'mean': 0.7912068449812782}\n",
      "{u'Country': u'Gabon', u'mean': 1.200294728009146}\n",
      "{u'Country': u'Gambia, The', u'mean': 0.3156090414664042}\n",
      "{u'Country': u'Ghana', u'mean': 0.538947676495762}\n",
      "{u'Country': u'Guinea', u'mean': 0.6810364675043907}\n",
      "{u'Country': u'Kuwait', u'mean': 0.04111374590488711}\n",
      "{u'Country': u'Guinea-Bissau', u'mean': 0.46123004048253946}\n",
      "{u'Country': u'Lesotho', u'mean': 1.898831954897907}\n",
      "{u'Country': u'Liberia', u'mean': 0.9755311680726713}\n",
      "{u'Country': u'Libya', u'mean': 0.48022653346065497}\n",
      "{u'Country': u'Iran', u'mean': 0.7343046332835362}\n",
      "{u'Country': u'Iraq', u'mean': 0.31948015130165996}\n",
      "{u'Country': u'Iraq-Saudi Arabia Neutral Zone', u'mean': 0.016075780098256897}\n",
      "{u'Country': u'Madagascar', u'mean': 1.17224559314492}\n",
      "{u'Country': u'Malawi', u'mean': 1.598128767173231}\n",
      "{u'Country': u'Israel', u'mean': 0.4394694495172856}\n",
      "{u'Country': u'Mali', u'mean': 0.22242964614362998}\n",
      "{u'Country': u'Ivory Coast', u'mean': 0.6916457177280083}\n",
      "{u'Country': u'Mauritania', u'mean': 0.06759673838373552}\n",
      "{u'Country': u'Jordan', u'mean': 0.36296419788953277}\n",
      "{u'Country': u'Mauritius', u'mean': 1.0906812900664735}\n",
      "{u'Country': u'Kenya', u'mean': 0.5324297209953948}\n",
      "{u'Country': u'Morocco', u'mean': 0.6621168443457096}\n",
      "{u'Country': u'Mozambique', u'mean': 1.0579466717572787}\n",
      "{u'Country': u'Namibia', u'mean': 0.5541178092693725}\n",
      "{u'Country': u'Niger', u'mean': 0.07313978560561515}\n",
      "{u'Country': u'Nigeria', u'mean': 0.4681683244376153}\n",
      "{u'Country': u'Oman', u'mean': 0.14570084767686306}\n",
      "{u'Country': u'Qatar', u'mean': 0.07037834575674724}\n",
      "{u'Country': u'Reunion'}\n"
     ]
    }
   ],
   "source": [
    "for i in range(0,numero_record):\n",
    "    print(means_data_by_country['features'][i]['properties'])"
   ]
  },
  {
   "cell_type": "code",
   "execution_count": null,
   "metadata": {
    "collapsed": true,
    "deletable": true,
    "editable": true
   },
   "outputs": [],
   "source": []
  }
 ],
 "metadata": {
  "kernelspec": {
   "display_name": "Python 2",
   "language": "python",
   "name": "python2"
  },
  "language_info": {
   "codemirror_mode": {
    "name": "ipython",
    "version": 2
   },
   "file_extension": ".py",
   "mimetype": "text/x-python",
   "name": "python",
   "nbconvert_exporter": "python",
   "pygments_lexer": "ipython2",
   "version": "2.7.12"
  }
 },
 "nbformat": 4,
 "nbformat_minor": 2
}
