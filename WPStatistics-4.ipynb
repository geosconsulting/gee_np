{
 "cells": [
  {
   "cell_type": "code",
   "execution_count": 1,
   "metadata": {
    "collapsed": true
   },
   "outputs": [],
   "source": [
    "import ee\n",
    "from IPython import display\n",
    "from IPython.display import Image\n",
    "import math\n",
    "import matplotlib.pyplot as plt\n",
    "from osgeo import gdal\n",
    "import tempfile\n",
    "import urllib\n",
    "import zipfile\n",
    "from mpl_toolkits.basemap import Basemap\n",
    "import numpy as np\n",
    "import datetime\n",
    "import pandas as pd"
   ]
  },
  {
   "cell_type": "code",
   "execution_count": 2,
   "metadata": {},
   "outputs": [],
   "source": [
    "ee.Initialize()\n",
    "\n",
    "# VETTORI 1EGLF7Gh-5Z3Zt9pxdKF-jBDtxQ-DnpJzz9D1BGQJ\n",
    "countries_gaul = ee.FeatureCollection('ft:1ZDEMjtnWm_smu7l_z3fx91BbxyCRzP2A3cEMrEiP')\n",
    "\n",
    "# AREA OF INTEREST\n",
    "region_L1 = ee.Geometry.Polygon([[[-30, -40], [65, -30], [65, 40], [-30, 40]]])\n",
    "region_json= [[-30, -40], [65, -30], [65, 40], [-30, 40]]"
   ]
  },
  {
   "cell_type": "code",
   "execution_count": 3,
   "metadata": {},
   "outputs": [],
   "source": [
    "subregions = {\n",
    "  'na': 'Northern Africa',\n",
    "  'ma': 'Middle Africa',\n",
    "  'wa': 'Western Africa', \n",
    "  'ea': 'Eastern Africa',\n",
    "  'sa': 'Southern Africa', \n",
    "  'ws': 'Western Asia'\n",
    "}"
   ]
  },
  {
   "cell_type": "markdown",
   "metadata": {},
   "source": [
    "# <span style=\"color:red\">INPUTS</span> "
   ]
  },
  {
   "cell_type": "code",
   "execution_count": 49,
   "metadata": {
    "collapsed": true
   },
   "outputs": [],
   "source": [
    "subregion = 'na'\n",
    "year = 2010\n",
    "name_asset = 'T_Annual'"
   ]
  },
  {
   "cell_type": "code",
   "execution_count": 50,
   "metadata": {},
   "outputs": [
    {
     "data": {
      "text/plain": [
       "13"
      ]
     },
     "execution_count": 50,
     "metadata": {},
     "output_type": "execute_result"
    }
   ],
   "source": [
    "selected_subregion = subregions[subregion]\n",
    "filtered = countries_gaul.filter(ee.Filter.eq('subregion', selected_subregion))\n",
    "country_number = filtered.size().getInfo()\n",
    "country_number"
   ]
  },
  {
   "cell_type": "code",
   "execution_count": 51,
   "metadata": {},
   "outputs": [
    {
     "name": "stdout",
     "output_type": "stream",
     "text": [
      "projects/fao-wapor/T_Annual/T_Annual-2010\n"
     ]
    }
   ],
   "source": [
    "radice = 'projects/fao-wapor/'\n",
    "raster_name = radice + name_asset + \"/\" + name_asset + \"-\" + str(year)\n",
    "print(raster_name)\n",
    "prefix = raster_name.split(\"/\")[2]"
   ]
  },
  {
   "cell_type": "code",
   "execution_count": 52,
   "metadata": {},
   "outputs": [
    {
     "name": "stdout",
     "output_type": "stream",
     "text": [
      "('Image scale: ', 248.48100621908284)\n"
     ]
    }
   ],
   "source": [
    "raster_stats = ee.Image(raster_name).toFloat();\n",
    "scale_calc = ee.Image(raster_stats).projection().nominalScale().getInfo();\n",
    "#print('Image properties: ', raster_stats.getInfo());\n",
    "print('Image scale: ', scale_calc);"
   ]
  },
  {
   "cell_type": "code",
   "execution_count": 53,
   "metadata": {
    "collapsed": true
   },
   "outputs": [],
   "source": [
    "def vizualize_image(raster,regione_plot,scale):    \n",
    "    visparams = {\"opacity\":1,\n",
    "             \"min\":0,\n",
    "             \"max\":1.2,\n",
    "             \"palette\":\"bc170f,e97a1a,fff83a,9bff40,5cb326\",\n",
    "             \"region\": regione_plot,\n",
    "             \"scale\" : scale_calc}\n",
    "    \n",
    "    url_raster_stat= raster.getThumbUrl(visparams)\n",
    "    return url_raster_stat"
   ]
  },
  {
   "cell_type": "code",
   "execution_count": 54,
   "metadata": {},
   "outputs": [],
   "source": [
    "#%matplotlib inline  \n",
    "#Image(url=vizualize_image(raster_stats,region_json,scale_calc))"
   ]
  },
  {
   "cell_type": "markdown",
   "metadata": {},
   "source": [
    "#### Means"
   ]
  },
  {
   "cell_type": "code",
   "execution_count": 55,
   "metadata": {},
   "outputs": [],
   "source": [
    "means = raster_stats.reduceRegions(\n",
    "    collection = filtered,\n",
    "    reducer = ee.Reducer.mean(),\n",
    "    scale = scale_calc,\n",
    ")"
   ]
  },
  {
   "cell_type": "markdown",
   "metadata": {},
   "source": [
    "#### MinMax Sum combined"
   ]
  },
  {
   "cell_type": "code",
   "execution_count": 56,
   "metadata": {},
   "outputs": [],
   "source": [
    "reducers = ee.Reducer.minMax().combine(\n",
    "    reducer2 = ee.Reducer.sum(),\n",
    "    sharedInputs = True\n",
    ");\n",
    "\n",
    "minMaxStds = raster_stats.reduceRegions(\n",
    "            collection = filtered,\n",
    "            reducer = reducers,\n",
    "            scale = scale_calc,\n",
    ");"
   ]
  },
  {
   "cell_type": "markdown",
   "metadata": {},
   "source": [
    "## Export"
   ]
  },
  {
   "cell_type": "code",
   "execution_count": 57,
   "metadata": {},
   "outputs": [],
   "source": [
    "features_m = means.getInfo()['features']\n",
    "features_mms = minMaxStds.getInfo()['features']"
   ]
  },
  {
   "cell_type": "code",
   "execution_count": 58,
   "metadata": {},
   "outputs": [],
   "source": [
    "df_m = pd.DataFrame(data=features_m[1:], columns = features_m[0])\n",
    "df_mms = pd.DataFrame(data=features_mms[1:], columns = features_mms[0])"
   ]
  },
  {
   "cell_type": "code",
   "execution_count": 59,
   "metadata": {},
   "outputs": [],
   "source": [
    "serie_m = df_m['properties'].apply(pd.Series)\n",
    "serie_mms = df_mms['properties'].apply(pd.Series)"
   ]
  },
  {
   "cell_type": "code",
   "execution_count": 60,
   "metadata": {},
   "outputs": [],
   "source": [
    "df_m = pd.DataFrame(serie_m[['fid', 'gaul_code', 'iso3', 'mean', 'name', 'region','subregion']])"
   ]
  },
  {
   "cell_type": "code",
   "execution_count": 61,
   "metadata": {},
   "outputs": [],
   "source": [
    "df_mms = pd.DataFrame(serie_mms[['fid', 'min', 'max','sum']])"
   ]
  },
  {
   "cell_type": "code",
   "execution_count": 62,
   "metadata": {},
   "outputs": [],
   "source": [
    "# caller.set_index('key').join(other.set_index('key'))\n",
    "df_stats = df_m.set_index('fid').join(df_mms.set_index('fid'), lsuffix='_df_m', rsuffix='_df_mms')"
   ]
  },
  {
   "cell_type": "code",
   "execution_count": 63,
   "metadata": {},
   "outputs": [
    {
     "data": {
      "text/html": [
       "<div>\n",
       "<table border=\"1\" class=\"dataframe\">\n",
       "  <thead>\n",
       "    <tr style=\"text-align: right;\">\n",
       "      <th></th>\n",
       "      <th>gaul_code</th>\n",
       "      <th>iso3</th>\n",
       "      <th>mean</th>\n",
       "      <th>name</th>\n",
       "      <th>region</th>\n",
       "      <th>subregion</th>\n",
       "      <th>min</th>\n",
       "      <th>max</th>\n",
       "      <th>sum</th>\n",
       "    </tr>\n",
       "    <tr>\n",
       "      <th>fid</th>\n",
       "      <th></th>\n",
       "      <th></th>\n",
       "      <th></th>\n",
       "      <th></th>\n",
       "      <th></th>\n",
       "      <th></th>\n",
       "      <th></th>\n",
       "      <th></th>\n",
       "      <th></th>\n",
       "    </tr>\n",
       "  </thead>\n",
       "  <tbody>\n",
       "    <tr>\n",
       "      <th>6.0</th>\n",
       "      <td>6.0</td>\n",
       "      <td>SDN</td>\n",
       "      <td>139.934674</td>\n",
       "      <td>Sudan</td>\n",
       "      <td>Africa</td>\n",
       "      <td>Northern Africa</td>\n",
       "      <td>0.000000</td>\n",
       "      <td>4232.866211</td>\n",
       "      <td>4.348628e+09</td>\n",
       "    </tr>\n",
       "    <tr>\n",
       "      <th>270.0</th>\n",
       "      <td>40760.0</td>\n",
       "      <td></td>\n",
       "      <td>0.414415</td>\n",
       "      <td>Hala'ib triangle</td>\n",
       "      <td>Africa</td>\n",
       "      <td>Northern Africa</td>\n",
       "      <td>0.000000</td>\n",
       "      <td>1262.863037</td>\n",
       "      <td>1.285611e+05</td>\n",
       "    </tr>\n",
       "    <tr>\n",
       "      <th>272.0</th>\n",
       "      <td>40765.0</td>\n",
       "      <td>EGY</td>\n",
       "      <td>48.013704</td>\n",
       "      <td>Egypt</td>\n",
       "      <td>Africa</td>\n",
       "      <td>Northern Africa</td>\n",
       "      <td>0.000000</td>\n",
       "      <td>3886.138916</td>\n",
       "      <td>8.567724e+08</td>\n",
       "    </tr>\n",
       "    <tr>\n",
       "      <th>142.0</th>\n",
       "      <td>145.0</td>\n",
       "      <td>LBY</td>\n",
       "      <td>7.462003</td>\n",
       "      <td>Libya</td>\n",
       "      <td>Africa</td>\n",
       "      <td>Northern Africa</td>\n",
       "      <td>0.000000</td>\n",
       "      <td>3148.794922</td>\n",
       "      <td>2.210462e+08</td>\n",
       "    </tr>\n",
       "    <tr>\n",
       "      <th>274.0</th>\n",
       "      <td>61013.0</td>\n",
       "      <td></td>\n",
       "      <td>520.132087</td>\n",
       "      <td>Ilemi triangle</td>\n",
       "      <td>Africa</td>\n",
       "      <td>Northern Africa</td>\n",
       "      <td>83.279999</td>\n",
       "      <td>2010.340942</td>\n",
       "      <td>2.698185e+07</td>\n",
       "    </tr>\n",
       "    <tr>\n",
       "      <th>276.0</th>\n",
       "      <td>74582.0</td>\n",
       "      <td></td>\n",
       "      <td>609.064280</td>\n",
       "      <td>Kafia Kenji</td>\n",
       "      <td>Africa</td>\n",
       "      <td>Northern Africa</td>\n",
       "      <td>330.119995</td>\n",
       "      <td>1479.376953</td>\n",
       "      <td>1.156662e+08</td>\n",
       "    </tr>\n",
       "    <tr>\n",
       "      <th>277.0</th>\n",
       "      <td>74583.0</td>\n",
       "      <td></td>\n",
       "      <td>568.281284</td>\n",
       "      <td>Kaka</td>\n",
       "      <td>Africa</td>\n",
       "      <td>Northern Africa</td>\n",
       "      <td>0.000000</td>\n",
       "      <td>2602.117920</td>\n",
       "      <td>5.434474e+06</td>\n",
       "    </tr>\n",
       "    <tr>\n",
       "      <th>166.0</th>\n",
       "      <td>169.0</td>\n",
       "      <td>MAR</td>\n",
       "      <td>115.978170</td>\n",
       "      <td>Morocco</td>\n",
       "      <td>Africa</td>\n",
       "      <td>Northern Africa</td>\n",
       "      <td>0.000000</td>\n",
       "      <td>1876.813965</td>\n",
       "      <td>9.184503e+08</td>\n",
       "    </tr>\n",
       "    <tr>\n",
       "      <th>74.0</th>\n",
       "      <td>74.0</td>\n",
       "      <td>SSD</td>\n",
       "      <td>762.440065</td>\n",
       "      <td>South Sudan</td>\n",
       "      <td>Africa</td>\n",
       "      <td>Northern Africa</td>\n",
       "      <td>0.000000</td>\n",
       "      <td>3028.899902</td>\n",
       "      <td>7.888658e+09</td>\n",
       "    </tr>\n",
       "    <tr>\n",
       "      <th>102.0</th>\n",
       "      <td>102.0</td>\n",
       "      <td></td>\n",
       "      <td>580.451357</td>\n",
       "      <td>Abyei</td>\n",
       "      <td>Africa</td>\n",
       "      <td>Northern Africa</td>\n",
       "      <td>156.766998</td>\n",
       "      <td>1283.114990</td>\n",
       "      <td>1.006183e+08</td>\n",
       "    </tr>\n",
       "    <tr>\n",
       "      <th>243.0</th>\n",
       "      <td>248.0</td>\n",
       "      <td>TUN</td>\n",
       "      <td>71.578500</td>\n",
       "      <td>Tunisia</td>\n",
       "      <td>Africa</td>\n",
       "      <td>Northern Africa</td>\n",
       "      <td>0.000000</td>\n",
       "      <td>2100.444092</td>\n",
       "      <td>2.176681e+08</td>\n",
       "    </tr>\n",
       "    <tr>\n",
       "      <th>263.0</th>\n",
       "      <td>268.0</td>\n",
       "      <td>ESH</td>\n",
       "      <td>1.028551</td>\n",
       "      <td>Western Sahara</td>\n",
       "      <td>Africa</td>\n",
       "      <td>Northern Africa</td>\n",
       "      <td>0.000000</td>\n",
       "      <td>2219.862061</td>\n",
       "      <td>4.946481e+06</td>\n",
       "    </tr>\n",
       "  </tbody>\n",
       "</table>\n",
       "</div>"
      ],
      "text/plain": [
       "       gaul_code iso3        mean              name  region        subregion  \\\n",
       "fid                                                                            \n",
       "6.0          6.0  SDN  139.934674             Sudan  Africa  Northern Africa   \n",
       "270.0    40760.0         0.414415  Hala'ib triangle  Africa  Northern Africa   \n",
       "272.0    40765.0  EGY   48.013704             Egypt  Africa  Northern Africa   \n",
       "142.0      145.0  LBY    7.462003             Libya  Africa  Northern Africa   \n",
       "274.0    61013.0       520.132087    Ilemi triangle  Africa  Northern Africa   \n",
       "276.0    74582.0       609.064280       Kafia Kenji  Africa  Northern Africa   \n",
       "277.0    74583.0       568.281284              Kaka  Africa  Northern Africa   \n",
       "166.0      169.0  MAR  115.978170           Morocco  Africa  Northern Africa   \n",
       "74.0        74.0  SSD  762.440065       South Sudan  Africa  Northern Africa   \n",
       "102.0      102.0       580.451357             Abyei  Africa  Northern Africa   \n",
       "243.0      248.0  TUN   71.578500           Tunisia  Africa  Northern Africa   \n",
       "263.0      268.0  ESH    1.028551    Western Sahara  Africa  Northern Africa   \n",
       "\n",
       "              min          max           sum  \n",
       "fid                                           \n",
       "6.0      0.000000  4232.866211  4.348628e+09  \n",
       "270.0    0.000000  1262.863037  1.285611e+05  \n",
       "272.0    0.000000  3886.138916  8.567724e+08  \n",
       "142.0    0.000000  3148.794922  2.210462e+08  \n",
       "274.0   83.279999  2010.340942  2.698185e+07  \n",
       "276.0  330.119995  1479.376953  1.156662e+08  \n",
       "277.0    0.000000  2602.117920  5.434474e+06  \n",
       "166.0    0.000000  1876.813965  9.184503e+08  \n",
       "74.0     0.000000  3028.899902  7.888658e+09  \n",
       "102.0  156.766998  1283.114990  1.006183e+08  \n",
       "243.0    0.000000  2100.444092  2.176681e+08  \n",
       "263.0    0.000000  2219.862061  4.946481e+06  "
      ]
     },
     "execution_count": 63,
     "metadata": {},
     "output_type": "execute_result"
    }
   ],
   "source": [
    "df_stats"
   ]
  },
  {
   "cell_type": "code",
   "execution_count": 64,
   "metadata": {},
   "outputs": [
    {
     "data": {
      "text/plain": [
       "'T_Annual_2010_na'"
      ]
     },
     "execution_count": 64,
     "metadata": {},
     "output_type": "execute_result"
    }
   ],
   "source": [
    "file_name = name_asset + \"_\" + str(year) + \"_\" + subregion # + prefix.lower()\n",
    "file_name"
   ]
  },
  {
   "cell_type": "code",
   "execution_count": 65,
   "metadata": {
    "collapsed": true
   },
   "outputs": [],
   "source": [
    "df_stats.to_csv('stats/' + file_name + '.csv')"
   ]
  },
  {
   "cell_type": "code",
   "execution_count": null,
   "metadata": {
    "collapsed": true
   },
   "outputs": [],
   "source": []
  }
 ],
 "metadata": {
  "kernelspec": {
   "display_name": "Python 2",
   "language": "python",
   "name": "python2"
  },
  "language_info": {
   "codemirror_mode": {
    "name": "ipython",
    "version": 2
   },
   "file_extension": ".py",
   "mimetype": "text/x-python",
   "name": "python",
   "nbconvert_exporter": "python",
   "pygments_lexer": "ipython2",
   "version": "2.7.12"
  }
 },
 "nbformat": 4,
 "nbformat_minor": 2
}
