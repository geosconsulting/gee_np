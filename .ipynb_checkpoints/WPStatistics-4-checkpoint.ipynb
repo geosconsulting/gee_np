{
 "cells": [
  {
   "cell_type": "code",
   "execution_count": 1,
   "metadata": {
    "collapsed": true
   },
   "outputs": [],
   "source": [
    "import ee\n",
    "from IPython import display\n",
    "from IPython.display import Image\n",
    "import math\n",
    "import matplotlib.pyplot as plt\n",
    "from osgeo import gdal\n",
    "import tempfile\n",
    "import urllib\n",
    "import zipfile\n",
    "from mpl_toolkits.basemap import Basemap\n",
    "import numpy as np\n",
    "import datetime\n",
    "import pandas as pd"
   ]
  },
  {
   "cell_type": "code",
   "execution_count": 2,
   "metadata": {},
   "outputs": [],
   "source": [
    "ee.Initialize()\n",
    "\n",
    "# VETTORI 1EGLF7Gh-5Z3Zt9pxdKF-jBDtxQ-DnpJzz9D1BGQJ\n",
    "countries_gaul = ee.FeatureCollection('ft:1ZDEMjtnWm_smu7l_z3fx91BbxyCRzP2A3cEMrEiP')\n",
    "\n",
    "# AREA OF INTEREST\n",
    "region_L1 = ee.Geometry.Polygon([[[-30, -40], [65, -30], [65, 40], [-30, 40]]])\n",
    "region_json= [[-30, -40], [65, -30], [65, 40], [-30, 40]]"
   ]
  },
  {
   "cell_type": "code",
   "execution_count": 3,
   "metadata": {},
   "outputs": [],
   "source": [
    "subregions = {\n",
    "  'na': 'Northern Africa',\n",
    "  'ma': 'Middle Africa',\n",
    "  'wa': 'Western Africa', \n",
    "  'ea': 'Eastern Africa',\n",
    "  'sa': 'Southern Africa', \n",
    "  'ws': 'Western Asia'\n",
    "}"
   ]
  },
  {
   "cell_type": "markdown",
   "metadata": {},
   "source": [
    "# <span style=\"color:red\">INPUTS</span> "
   ]
  },
  {
   "cell_type": "code",
   "execution_count": 19,
   "metadata": {
    "collapsed": true
   },
   "outputs": [],
   "source": [
    "subregion = 'ma'\n",
    "year = 2010\n",
    "name_asset = 'T_Annual'"
   ]
  },
  {
   "cell_type": "code",
   "execution_count": 20,
   "metadata": {},
   "outputs": [
    {
     "data": {
      "text/plain": [
       "9"
      ]
     },
     "execution_count": 20,
     "metadata": {},
     "output_type": "execute_result"
    }
   ],
   "source": [
    "selected_subregion = subregions[subregion]\n",
    "filtered = countries_gaul.filter(ee.Filter.eq('subregion', selected_subregion))\n",
    "country_number = filtered.size().getInfo()\n",
    "country_number"
   ]
  },
  {
   "cell_type": "code",
   "execution_count": 21,
   "metadata": {},
   "outputs": [
    {
     "name": "stdout",
     "output_type": "stream",
     "text": [
      "projects/fao-wapor/T_AnnualT_Annual-2010\n"
     ]
    }
   ],
   "source": [
    "radice = 'projects/fao-wapor/'\n",
    "#raster_name = 'projects/fao-wapor/T_Annual/T_Annual-2010'\n",
    "raster_name = radice + name_asset + \"/\" + name_asset + \"-\" + str(year)\n",
    "print(raster_name)\n",
    "prefix = raster_name.split(\"/\")[2]"
   ]
  },
  {
   "cell_type": "code",
   "execution_count": 17,
   "metadata": {},
   "outputs": [
    {
     "ename": "EEException",
     "evalue": "Image.load: Image asset 'projects/fao-wapor/T_Annual-2010' not found.",
     "output_type": "error",
     "traceback": [
      "\u001b[0;31m---------------------------------------------------------------------------\u001b[0m",
      "\u001b[0;31mEEException\u001b[0m                               Traceback (most recent call last)",
      "\u001b[0;32m<ipython-input-17-ce7a1b67f186>\u001b[0m in \u001b[0;36m<module>\u001b[0;34m()\u001b[0m\n\u001b[1;32m      1\u001b[0m \u001b[0mraster_stats\u001b[0m \u001b[0;34m=\u001b[0m \u001b[0mee\u001b[0m\u001b[0;34m.\u001b[0m\u001b[0mImage\u001b[0m\u001b[0;34m(\u001b[0m\u001b[0mraster_name\u001b[0m\u001b[0;34m)\u001b[0m\u001b[0;34m.\u001b[0m\u001b[0mtoFloat\u001b[0m\u001b[0;34m(\u001b[0m\u001b[0;34m)\u001b[0m\u001b[0;34m;\u001b[0m\u001b[0;34m\u001b[0m\u001b[0m\n\u001b[0;32m----> 2\u001b[0;31m \u001b[0mscale_calc\u001b[0m \u001b[0;34m=\u001b[0m \u001b[0mee\u001b[0m\u001b[0;34m.\u001b[0m\u001b[0mImage\u001b[0m\u001b[0;34m(\u001b[0m\u001b[0mraster_stats\u001b[0m\u001b[0;34m)\u001b[0m\u001b[0;34m.\u001b[0m\u001b[0mprojection\u001b[0m\u001b[0;34m(\u001b[0m\u001b[0;34m)\u001b[0m\u001b[0;34m.\u001b[0m\u001b[0mnominalScale\u001b[0m\u001b[0;34m(\u001b[0m\u001b[0;34m)\u001b[0m\u001b[0;34m.\u001b[0m\u001b[0mgetInfo\u001b[0m\u001b[0;34m(\u001b[0m\u001b[0;34m)\u001b[0m\u001b[0;34m;\u001b[0m\u001b[0;34m\u001b[0m\u001b[0m\n\u001b[0m\u001b[1;32m      3\u001b[0m \u001b[0;31m#print('Image properties: ', raster_stats.getInfo());\u001b[0m\u001b[0;34m\u001b[0m\u001b[0;34m\u001b[0m\u001b[0m\n\u001b[1;32m      4\u001b[0m \u001b[0;32mprint\u001b[0m\u001b[0;34m(\u001b[0m\u001b[0;34m'Image scale: '\u001b[0m\u001b[0;34m,\u001b[0m \u001b[0mscale_calc\u001b[0m\u001b[0;34m)\u001b[0m\u001b[0;34m;\u001b[0m\u001b[0;34m\u001b[0m\u001b[0m\n",
      "\u001b[0;32m/usr/local/lib/python2.7/dist-packages/ee/computedobject.pyc\u001b[0m in \u001b[0;36mgetInfo\u001b[0;34m(self)\u001b[0m\n\u001b[1;32m     93\u001b[0m       \u001b[0mThe\u001b[0m \u001b[0mobject\u001b[0m \u001b[0mcan\u001b[0m \u001b[0mevaluate\u001b[0m \u001b[0mto\u001b[0m \u001b[0manything\u001b[0m\u001b[0;34m.\u001b[0m\u001b[0;34m\u001b[0m\u001b[0m\n\u001b[1;32m     94\u001b[0m     \"\"\"\n\u001b[0;32m---> 95\u001b[0;31m     \u001b[0;32mreturn\u001b[0m \u001b[0mdata\u001b[0m\u001b[0;34m.\u001b[0m\u001b[0mgetValue\u001b[0m\u001b[0;34m(\u001b[0m\u001b[0;34m{\u001b[0m\u001b[0;34m'json'\u001b[0m\u001b[0;34m:\u001b[0m \u001b[0mself\u001b[0m\u001b[0;34m.\u001b[0m\u001b[0mserialize\u001b[0m\u001b[0;34m(\u001b[0m\u001b[0;34m)\u001b[0m\u001b[0;34m}\u001b[0m\u001b[0;34m)\u001b[0m\u001b[0;34m\u001b[0m\u001b[0m\n\u001b[0m\u001b[1;32m     96\u001b[0m \u001b[0;34m\u001b[0m\u001b[0m\n\u001b[1;32m     97\u001b[0m   \u001b[0;32mdef\u001b[0m \u001b[0mencode\u001b[0m\u001b[0;34m(\u001b[0m\u001b[0mself\u001b[0m\u001b[0;34m,\u001b[0m \u001b[0mencoder\u001b[0m\u001b[0;34m)\u001b[0m\u001b[0;34m:\u001b[0m\u001b[0;34m\u001b[0m\u001b[0m\n",
      "\u001b[0;32m/usr/local/lib/python2.7/dist-packages/ee/data.pyc\u001b[0m in \u001b[0;36mgetValue\u001b[0;34m(params)\u001b[0m\n\u001b[1;32m    239\u001b[0m   \"\"\"\n\u001b[1;32m    240\u001b[0m   \u001b[0mparams\u001b[0m\u001b[0;34m[\u001b[0m\u001b[0;34m'json_format'\u001b[0m\u001b[0;34m]\u001b[0m \u001b[0;34m=\u001b[0m \u001b[0;34m'v2'\u001b[0m\u001b[0;34m\u001b[0m\u001b[0m\n\u001b[0;32m--> 241\u001b[0;31m   \u001b[0;32mreturn\u001b[0m \u001b[0msend_\u001b[0m\u001b[0;34m(\u001b[0m\u001b[0;34m'/value'\u001b[0m\u001b[0;34m,\u001b[0m \u001b[0mparams\u001b[0m\u001b[0;34m)\u001b[0m\u001b[0;34m\u001b[0m\u001b[0m\n\u001b[0m\u001b[1;32m    242\u001b[0m \u001b[0;34m\u001b[0m\u001b[0m\n\u001b[1;32m    243\u001b[0m \u001b[0;34m\u001b[0m\u001b[0m\n",
      "\u001b[0;32m/usr/local/lib/python2.7/dist-packages/ee/data.pyc\u001b[0m in \u001b[0;36msend_\u001b[0;34m(path, params, opt_method, opt_raw)\u001b[0m\n\u001b[1;32m    728\u001b[0m       \u001b[0;32mraise\u001b[0m \u001b[0mee_exception\u001b[0m\u001b[0;34m.\u001b[0m\u001b[0mEEException\u001b[0m\u001b[0;34m(\u001b[0m\u001b[0;34m'Invalid JSON: %s'\u001b[0m \u001b[0;34m%\u001b[0m \u001b[0mcontent\u001b[0m\u001b[0;34m)\u001b[0m\u001b[0;34m\u001b[0m\u001b[0m\n\u001b[1;32m    729\u001b[0m     \u001b[0;32mif\u001b[0m \u001b[0;34m'error'\u001b[0m \u001b[0;32min\u001b[0m \u001b[0mjson_content\u001b[0m\u001b[0;34m:\u001b[0m\u001b[0;34m\u001b[0m\u001b[0m\n\u001b[0;32m--> 730\u001b[0;31m       \u001b[0;32mraise\u001b[0m \u001b[0mee_exception\u001b[0m\u001b[0;34m.\u001b[0m\u001b[0mEEException\u001b[0m\u001b[0;34m(\u001b[0m\u001b[0mjson_content\u001b[0m\u001b[0;34m[\u001b[0m\u001b[0;34m'error'\u001b[0m\u001b[0;34m]\u001b[0m\u001b[0;34m[\u001b[0m\u001b[0;34m'message'\u001b[0m\u001b[0;34m]\u001b[0m\u001b[0;34m)\u001b[0m\u001b[0;34m\u001b[0m\u001b[0m\n\u001b[0m\u001b[1;32m    731\u001b[0m     \u001b[0;32mif\u001b[0m \u001b[0;34m'data'\u001b[0m \u001b[0;32mnot\u001b[0m \u001b[0;32min\u001b[0m \u001b[0mcontent\u001b[0m\u001b[0;34m:\u001b[0m\u001b[0;34m\u001b[0m\u001b[0m\n\u001b[1;32m    732\u001b[0m       \u001b[0;32mraise\u001b[0m \u001b[0mee_exception\u001b[0m\u001b[0;34m.\u001b[0m\u001b[0mEEException\u001b[0m\u001b[0;34m(\u001b[0m\u001b[0;34m'Malformed response: '\u001b[0m \u001b[0;34m+\u001b[0m \u001b[0mstr\u001b[0m\u001b[0;34m(\u001b[0m\u001b[0mcontent\u001b[0m\u001b[0;34m)\u001b[0m\u001b[0;34m)\u001b[0m\u001b[0;34m\u001b[0m\u001b[0m\n",
      "\u001b[0;31mEEException\u001b[0m: Image.load: Image asset 'projects/fao-wapor/T_Annual-2010' not found."
     ]
    }
   ],
   "source": [
    "raster_stats = ee.Image(raster_name).toFloat();\n",
    "scale_calc = ee.Image(raster_stats).projection().nominalScale().getInfo();\n",
    "#print('Image properties: ', raster_stats.getInfo());\n",
    "print('Image scale: ', scale_calc);"
   ]
  },
  {
   "cell_type": "code",
   "execution_count": 133,
   "metadata": {
    "collapsed": true
   },
   "outputs": [],
   "source": [
    "def vizualize_image(raster,regione_plot,scale):    \n",
    "    visparams = {\"opacity\":1,\n",
    "             \"min\":0,\n",
    "             \"max\":1.2,\n",
    "             \"palette\":\"bc170f,e97a1a,fff83a,9bff40,5cb326\",\n",
    "             \"region\": regione_plot,\n",
    "             \"scale\" : scale_calc}\n",
    "    \n",
    "    url_raster_stat= raster.getThumbUrl(visparams)\n",
    "    return url_raster_stat"
   ]
  },
  {
   "cell_type": "code",
   "execution_count": 134,
   "metadata": {},
   "outputs": [],
   "source": [
    "#%matplotlib inline  \n",
    "#Image(url=vizualize_image(raster_stats,region_json,scale_calc))"
   ]
  },
  {
   "cell_type": "markdown",
   "metadata": {},
   "source": [
    "#### Means"
   ]
  },
  {
   "cell_type": "code",
   "execution_count": 135,
   "metadata": {},
   "outputs": [],
   "source": [
    "means = raster_stats.reduceRegions(\n",
    "    collection = filtered,\n",
    "    reducer = ee.Reducer.mean(),\n",
    "    scale = scale_calc,\n",
    ")"
   ]
  },
  {
   "cell_type": "markdown",
   "metadata": {},
   "source": [
    "#### MinMax Sum combined"
   ]
  },
  {
   "cell_type": "code",
   "execution_count": 137,
   "metadata": {},
   "outputs": [],
   "source": [
    "reducers = ee.Reducer.minMax().combine(\n",
    "    reducer2 = ee.Reducer.sum(),\n",
    "    sharedInputs = True\n",
    ");\n",
    "\n",
    "minMaxStds = raster_stats.reduceRegions(\n",
    "            collection = filtered,\n",
    "            reducer = reducers,\n",
    "            scale = scale_calc,\n",
    ");"
   ]
  },
  {
   "cell_type": "markdown",
   "metadata": {},
   "source": [
    "## Export"
   ]
  },
  {
   "cell_type": "code",
   "execution_count": 145,
   "metadata": {},
   "outputs": [],
   "source": [
    "features_m = means.getInfo()['features']\n",
    "features_mms = minMaxStds.getInfo()['features']"
   ]
  },
  {
   "cell_type": "code",
   "execution_count": 146,
   "metadata": {},
   "outputs": [],
   "source": [
    "df_m = pd.DataFrame(data=features_m[1:], columns = features_m[0])\n",
    "df_mms = pd.DataFrame(data=features_mms[1:], columns = features_mms[0])"
   ]
  },
  {
   "cell_type": "code",
   "execution_count": 147,
   "metadata": {},
   "outputs": [],
   "source": [
    "serie_m = df_m['properties'].apply(pd.Series)\n",
    "serie_mms = df_mms['properties'].apply(pd.Series)"
   ]
  },
  {
   "cell_type": "code",
   "execution_count": 148,
   "metadata": {},
   "outputs": [],
   "source": [
    "df_m = pd.DataFrame(serie_m[['fid', 'gaul_code', 'iso3', 'mean', 'name', 'region','subregion']])"
   ]
  },
  {
   "cell_type": "code",
   "execution_count": 149,
   "metadata": {},
   "outputs": [],
   "source": [
    "df_mms = pd.DataFrame(serie_mms[['iso3', 'min', 'max','sum']])"
   ]
  },
  {
   "cell_type": "code",
   "execution_count": 150,
   "metadata": {},
   "outputs": [],
   "source": [
    "df_stats = df_m.join(df_mms, lsuffix='_df_m', rsuffix='_df_mms')"
   ]
  },
  {
   "cell_type": "code",
   "execution_count": 151,
   "metadata": {},
   "outputs": [
    {
     "data": {
      "text/html": [
       "<div>\n",
       "<table border=\"1\" class=\"dataframe\">\n",
       "  <thead>\n",
       "    <tr style=\"text-align: right;\">\n",
       "      <th></th>\n",
       "      <th>fid</th>\n",
       "      <th>gaul_code</th>\n",
       "      <th>iso3_df_m</th>\n",
       "      <th>mean</th>\n",
       "      <th>name</th>\n",
       "      <th>region</th>\n",
       "      <th>subregion</th>\n",
       "      <th>iso3_df_mms</th>\n",
       "      <th>min</th>\n",
       "      <th>max</th>\n",
       "      <th>sum</th>\n",
       "    </tr>\n",
       "  </thead>\n",
       "  <tbody>\n",
       "    <tr>\n",
       "      <th>0</th>\n",
       "      <td>6.0</td>\n",
       "      <td>6.0</td>\n",
       "      <td>SDN</td>\n",
       "      <td>139.934674</td>\n",
       "      <td>Sudan</td>\n",
       "      <td>Africa</td>\n",
       "      <td>Northern Africa</td>\n",
       "      <td>SDN</td>\n",
       "      <td>0.000000</td>\n",
       "      <td>4232.866211</td>\n",
       "      <td>4.348628e+09</td>\n",
       "    </tr>\n",
       "    <tr>\n",
       "      <th>1</th>\n",
       "      <td>270.0</td>\n",
       "      <td>40760.0</td>\n",
       "      <td></td>\n",
       "      <td>0.414415</td>\n",
       "      <td>Hala'ib triangle</td>\n",
       "      <td>Africa</td>\n",
       "      <td>Northern Africa</td>\n",
       "      <td></td>\n",
       "      <td>0.000000</td>\n",
       "      <td>1262.863037</td>\n",
       "      <td>1.285611e+05</td>\n",
       "    </tr>\n",
       "    <tr>\n",
       "      <th>2</th>\n",
       "      <td>272.0</td>\n",
       "      <td>40765.0</td>\n",
       "      <td>EGY</td>\n",
       "      <td>48.013704</td>\n",
       "      <td>Egypt</td>\n",
       "      <td>Africa</td>\n",
       "      <td>Northern Africa</td>\n",
       "      <td>EGY</td>\n",
       "      <td>0.000000</td>\n",
       "      <td>3886.138916</td>\n",
       "      <td>8.567724e+08</td>\n",
       "    </tr>\n",
       "    <tr>\n",
       "      <th>3</th>\n",
       "      <td>142.0</td>\n",
       "      <td>145.0</td>\n",
       "      <td>LBY</td>\n",
       "      <td>7.462003</td>\n",
       "      <td>Libya</td>\n",
       "      <td>Africa</td>\n",
       "      <td>Northern Africa</td>\n",
       "      <td>LBY</td>\n",
       "      <td>0.000000</td>\n",
       "      <td>3148.794922</td>\n",
       "      <td>2.210462e+08</td>\n",
       "    </tr>\n",
       "    <tr>\n",
       "      <th>4</th>\n",
       "      <td>274.0</td>\n",
       "      <td>61013.0</td>\n",
       "      <td></td>\n",
       "      <td>520.132087</td>\n",
       "      <td>Ilemi triangle</td>\n",
       "      <td>Africa</td>\n",
       "      <td>Northern Africa</td>\n",
       "      <td></td>\n",
       "      <td>83.279999</td>\n",
       "      <td>2010.340942</td>\n",
       "      <td>2.698185e+07</td>\n",
       "    </tr>\n",
       "    <tr>\n",
       "      <th>5</th>\n",
       "      <td>276.0</td>\n",
       "      <td>74582.0</td>\n",
       "      <td></td>\n",
       "      <td>609.064280</td>\n",
       "      <td>Kafia Kenji</td>\n",
       "      <td>Africa</td>\n",
       "      <td>Northern Africa</td>\n",
       "      <td></td>\n",
       "      <td>330.119995</td>\n",
       "      <td>1479.376953</td>\n",
       "      <td>1.156662e+08</td>\n",
       "    </tr>\n",
       "    <tr>\n",
       "      <th>6</th>\n",
       "      <td>277.0</td>\n",
       "      <td>74583.0</td>\n",
       "      <td></td>\n",
       "      <td>568.281284</td>\n",
       "      <td>Kaka</td>\n",
       "      <td>Africa</td>\n",
       "      <td>Northern Africa</td>\n",
       "      <td></td>\n",
       "      <td>0.000000</td>\n",
       "      <td>2602.117920</td>\n",
       "      <td>5.434474e+06</td>\n",
       "    </tr>\n",
       "    <tr>\n",
       "      <th>7</th>\n",
       "      <td>166.0</td>\n",
       "      <td>169.0</td>\n",
       "      <td>MAR</td>\n",
       "      <td>115.978170</td>\n",
       "      <td>Morocco</td>\n",
       "      <td>Africa</td>\n",
       "      <td>Northern Africa</td>\n",
       "      <td>MAR</td>\n",
       "      <td>0.000000</td>\n",
       "      <td>1876.813965</td>\n",
       "      <td>9.184503e+08</td>\n",
       "    </tr>\n",
       "    <tr>\n",
       "      <th>8</th>\n",
       "      <td>74.0</td>\n",
       "      <td>74.0</td>\n",
       "      <td>SSD</td>\n",
       "      <td>762.440065</td>\n",
       "      <td>South Sudan</td>\n",
       "      <td>Africa</td>\n",
       "      <td>Northern Africa</td>\n",
       "      <td>SSD</td>\n",
       "      <td>0.000000</td>\n",
       "      <td>3028.899902</td>\n",
       "      <td>7.888658e+09</td>\n",
       "    </tr>\n",
       "    <tr>\n",
       "      <th>9</th>\n",
       "      <td>102.0</td>\n",
       "      <td>102.0</td>\n",
       "      <td></td>\n",
       "      <td>580.451357</td>\n",
       "      <td>Abyei</td>\n",
       "      <td>Africa</td>\n",
       "      <td>Northern Africa</td>\n",
       "      <td></td>\n",
       "      <td>156.766998</td>\n",
       "      <td>1283.114990</td>\n",
       "      <td>1.006183e+08</td>\n",
       "    </tr>\n",
       "    <tr>\n",
       "      <th>10</th>\n",
       "      <td>243.0</td>\n",
       "      <td>248.0</td>\n",
       "      <td>TUN</td>\n",
       "      <td>71.578500</td>\n",
       "      <td>Tunisia</td>\n",
       "      <td>Africa</td>\n",
       "      <td>Northern Africa</td>\n",
       "      <td>TUN</td>\n",
       "      <td>0.000000</td>\n",
       "      <td>2100.444092</td>\n",
       "      <td>2.176681e+08</td>\n",
       "    </tr>\n",
       "    <tr>\n",
       "      <th>11</th>\n",
       "      <td>263.0</td>\n",
       "      <td>268.0</td>\n",
       "      <td>ESH</td>\n",
       "      <td>1.028551</td>\n",
       "      <td>Western Sahara</td>\n",
       "      <td>Africa</td>\n",
       "      <td>Northern Africa</td>\n",
       "      <td>ESH</td>\n",
       "      <td>0.000000</td>\n",
       "      <td>2219.862061</td>\n",
       "      <td>4.946481e+06</td>\n",
       "    </tr>\n",
       "  </tbody>\n",
       "</table>\n",
       "</div>"
      ],
      "text/plain": [
       "      fid  gaul_code iso3_df_m        mean              name  region  \\\n",
       "0     6.0        6.0       SDN  139.934674             Sudan  Africa   \n",
       "1   270.0    40760.0              0.414415  Hala'ib triangle  Africa   \n",
       "2   272.0    40765.0       EGY   48.013704             Egypt  Africa   \n",
       "3   142.0      145.0       LBY    7.462003             Libya  Africa   \n",
       "4   274.0    61013.0            520.132087    Ilemi triangle  Africa   \n",
       "5   276.0    74582.0            609.064280       Kafia Kenji  Africa   \n",
       "6   277.0    74583.0            568.281284              Kaka  Africa   \n",
       "7   166.0      169.0       MAR  115.978170           Morocco  Africa   \n",
       "8    74.0       74.0       SSD  762.440065       South Sudan  Africa   \n",
       "9   102.0      102.0            580.451357             Abyei  Africa   \n",
       "10  243.0      248.0       TUN   71.578500           Tunisia  Africa   \n",
       "11  263.0      268.0       ESH    1.028551    Western Sahara  Africa   \n",
       "\n",
       "          subregion iso3_df_mms         min          max           sum  \n",
       "0   Northern Africa         SDN    0.000000  4232.866211  4.348628e+09  \n",
       "1   Northern Africa                0.000000  1262.863037  1.285611e+05  \n",
       "2   Northern Africa         EGY    0.000000  3886.138916  8.567724e+08  \n",
       "3   Northern Africa         LBY    0.000000  3148.794922  2.210462e+08  \n",
       "4   Northern Africa               83.279999  2010.340942  2.698185e+07  \n",
       "5   Northern Africa              330.119995  1479.376953  1.156662e+08  \n",
       "6   Northern Africa                0.000000  2602.117920  5.434474e+06  \n",
       "7   Northern Africa         MAR    0.000000  1876.813965  9.184503e+08  \n",
       "8   Northern Africa         SSD    0.000000  3028.899902  7.888658e+09  \n",
       "9   Northern Africa              156.766998  1283.114990  1.006183e+08  \n",
       "10  Northern Africa         TUN    0.000000  2100.444092  2.176681e+08  \n",
       "11  Northern Africa         ESH    0.000000  2219.862061  4.946481e+06  "
      ]
     },
     "execution_count": 151,
     "metadata": {},
     "output_type": "execute_result"
    }
   ],
   "source": [
    "df_stats"
   ]
  },
  {
   "cell_type": "code",
   "execution_count": 152,
   "metadata": {},
   "outputs": [
    {
     "data": {
      "text/plain": [
       "'na_t_annual-2010'"
      ]
     },
     "execution_count": 152,
     "metadata": {},
     "output_type": "execute_result"
    }
   ],
   "source": [
    "file_name = subregion + \"_\" + prefix.lower()\n",
    "file_name"
   ]
  },
  {
   "cell_type": "code",
   "execution_count": 153,
   "metadata": {
    "collapsed": true
   },
   "outputs": [],
   "source": [
    "df_stats.to_csv('stats/' + file_name + '.csv')"
   ]
  },
  {
   "cell_type": "code",
   "execution_count": null,
   "metadata": {
    "collapsed": true
   },
   "outputs": [],
   "source": []
  }
 ],
 "metadata": {
  "kernelspec": {
   "display_name": "Python 2",
   "language": "python",
   "name": "python2"
  },
  "language_info": {
   "codemirror_mode": {
    "name": "ipython",
    "version": 2
   },
   "file_extension": ".py",
   "mimetype": "text/x-python",
   "name": "python",
   "nbconvert_exporter": "python",
   "pygments_lexer": "ipython2",
   "version": "2.7.12"
  }
 },
 "nbformat": 4,
 "nbformat_minor": 2
}
