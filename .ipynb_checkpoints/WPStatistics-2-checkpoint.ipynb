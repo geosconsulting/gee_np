{
 "cells": [
  {
   "cell_type": "code",
   "execution_count": 2,
   "metadata": {
    "collapsed": true,
    "deletable": true,
    "editable": true
   },
   "outputs": [],
   "source": [
    "import ee\n",
    "from IPython import display\n",
    "from IPython.display import Image\n",
    "import math\n",
    "import matplotlib.pyplot as plt\n",
    "from osgeo import gdal\n",
    "import tempfile\n",
    "import urllib\n",
    "import zipfile\n",
    "from mpl_toolkits.basemap import Basemap\n",
    "import numpy as np\n",
    "import datetime"
   ]
  },
  {
   "cell_type": "code",
   "execution_count": null,
   "metadata": {
    "collapsed": false,
    "deletable": true,
    "editable": true
   },
   "outputs": [],
   "source": [
    "ee.Initialize()\n",
    "\n",
    "# VETTORI\n",
    "countries = ee.FeatureCollection('ft:1tdSwUL7MVpOauSgRzqVTOwdfy17KDbw-1d9omPw')\n",
    "wsheds = ee.FeatureCollection('ft:1IXfrLpTHX4dtdj1LcNXjJADBB-d93rkdJ9acSEWK')"
   ]
  },
  {
   "cell_type": "code",
   "execution_count": null,
   "metadata": {
    "collapsed": false,
    "deletable": true,
    "editable": true
   },
   "outputs": [],
   "source": [
    "# AREA OF INTEREST\n",
    "region = [[-25.0, -40.0], [65.0, -40.0], [65.0, 40.0], [-30.0, 40.0], [-30.0, -40.0]]"
   ]
  },
  {
   "cell_type": "code",
   "execution_count": null,
   "metadata": {
    "collapsed": false,
    "deletable": true,
    "editable": true
   },
   "outputs": [],
   "source": [
    "wpbm_stats = ee.Image('projects/fao-wapor/L1-WPbmY2015-sample');"
   ]
  },
  {
   "cell_type": "code",
   "execution_count": null,
   "metadata": {
    "collapsed": true,
    "deletable": true,
    "editable": true
   },
   "outputs": [],
   "source": [
    "def vizualize_image(wbpm,regione_plot,scala):    \n",
    "    visparams = {\"opacity\":1,\n",
    "             \"min\":0,\n",
    "             \"max\":1.2,\n",
    "             \"palette\":\"bc170f,e97a1a,fff83a,9bff40,5cb326\",\n",
    "             \"region\": regione_plot,\n",
    "             \"scale\" : scala}\n",
    "    \n",
    "    url_WPbm = wbpm.getThumbUrl(visparams)\n",
    "    return url_WPbm"
   ]
  },
  {
   "cell_type": "code",
   "execution_count": null,
   "metadata": {
    "collapsed": true,
    "deletable": true,
    "editable": true
   },
   "outputs": [],
   "source": [
    "%matplotlib inline  "
   ]
  },
  {
   "cell_type": "code",
   "execution_count": null,
   "metadata": {
    "collapsed": false,
    "deletable": true,
    "editable": true
   },
   "outputs": [],
   "source": [
    "Image(url=vizualize_image(wpbm_stats,region,250))\n"
   ]
  },
  {
   "cell_type": "markdown",
   "metadata": {
    "deletable": true,
    "editable": true
   },
   "source": [
    "# Statistiche WPbm per paese e anno"
   ]
  },
  {
   "cell_type": "code",
   "execution_count": null,
   "metadata": {
    "collapsed": false,
    "deletable": true,
    "editable": true
   },
   "outputs": [],
   "source": [
    "africa_bbox = ee.Geometry.Rectangle(-15.64, -33.58, 59.06, 25.96)\n",
    "filtered = countries.filterBounds(africa_bbox)"
   ]
  },
  {
   "cell_type": "code",
   "execution_count": null,
   "metadata": {
    "collapsed": false,
    "deletable": true,
    "editable": true
   },
   "outputs": [],
   "source": [
    "largeSheds = wsheds.filter(ee.Filter.gt('AreaSqKm', 25000))\n",
    "'Count after filtering by size:', largeSheds.size().getInfo()"
   ]
  },
  {
   "cell_type": "code",
   "execution_count": null,
   "metadata": {
    "collapsed": false,
    "deletable": true,
    "editable": true
   },
   "outputs": [],
   "source": [
    "nomeCountry = 'Sudan'\n",
    "justCountry = countries.filter(ee.Filter.eq('Country', nomeCountry))\n",
    "cutPoly = justCountry.geometry() \n",
    "cutBoundingBox = cutPoly.bounds(1)\n",
    "\n",
    "country_mean = wpbm_stats.reduceRegion(\n",
    "    reducer = ee.Reducer.mean(),\n",
    "    geometry = cutPoly,\n",
    "    scale = 250,\n",
    "    maxPixels = 1e9\n",
    ")\n",
    "mean = country_mean.getInfo()\n",
    "mean['mean'] = mean.pop('b1')\n",
    "\n",
    "reducers = ee.Reducer.minMax().combine(\n",
    "  reducer2 = ee.Reducer.stdDev(),\n",
    "  sharedInputs = True\n",
    ")\n",
    "\n",
    "# Use the combined reducer to get the min max and SD of the image.\n",
    "stats = wpbm_stats.reduceRegion(\n",
    "  reducer = reducers,\n",
    "  bestEffort = True,\n",
    "  geometry = cutPoly,\n",
    "  scale = 250,\n",
    ")\n",
    "\n",
    "# Display the dictionary of band means and SDs.\n",
    "min_max_std = stats.getInfo()\n",
    "min_max_std['min'] = min_max_std.pop('b1_min')\n",
    "min_max_std['std'] = min_max_std.pop('b1_stdDev')\n",
    "min_max_std['max'] = min_max_std.pop('b1_max')\n",
    "min_max_std"
   ]
  },
  {
   "cell_type": "code",
   "execution_count": null,
   "metadata": {
    "collapsed": false,
    "deletable": true,
    "editable": true
   },
   "outputs": [],
   "source": [
    "means = wpbm_stats.reduceRegions(\n",
    "    collection = filtered,\n",
    "    reducer = ee.Reducer.mean(),\n",
    "    scale = 250,\n",
    "  );\n",
    "means_data_by_country = means.getInfo()"
   ]
  },
  {
   "cell_type": "code",
   "execution_count": null,
   "metadata": {
    "collapsed": false,
    "deletable": true,
    "editable": true
   },
   "outputs": [],
   "source": [
    "means_data_by_country['columns']"
   ]
  },
  {
   "cell_type": "code",
   "execution_count": null,
   "metadata": {
    "collapsed": false,
    "deletable": true,
    "editable": true
   },
   "outputs": [],
   "source": [
    "means_data_by_country['features'][12]['properties']"
   ]
  },
  {
   "cell_type": "code",
   "execution_count": null,
   "metadata": {
    "collapsed": false,
    "deletable": true,
    "editable": true
   },
   "outputs": [],
   "source": [
    "numero_record = means.size().getInfo()"
   ]
  },
  {
   "cell_type": "code",
   "execution_count": null,
   "metadata": {
    "collapsed": false,
    "deletable": true,
    "editable": true
   },
   "outputs": [],
   "source": [
    "for i in range(0,numero_record):\n",
    "    print(means_data_by_country['features'][i]['properties'])"
   ]
  },
  {
   "cell_type": "code",
   "execution_count": null,
   "metadata": {
    "collapsed": true,
    "deletable": true,
    "editable": true
   },
   "outputs": [],
   "source": []
  }
 ],
 "metadata": {
  "kernelspec": {
   "display_name": "Python 2",
   "language": "python",
   "name": "python2"
  },
  "language_info": {
   "codemirror_mode": {
    "name": "ipython",
    "version": 2
   },
   "file_extension": ".py",
   "mimetype": "text/x-python",
   "name": "python",
   "nbconvert_exporter": "python",
   "pygments_lexer": "ipython2",
   "version": "2.7.12"
  }
 },
 "nbformat": 4,
 "nbformat_minor": 2
}
