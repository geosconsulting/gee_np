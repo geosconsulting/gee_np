{
 "cells": [
  {
   "cell_type": "code",
   "execution_count": 42,
   "metadata": {
    "collapsed": true,
    "deletable": true,
    "editable": true
   },
   "outputs": [],
   "source": [
    "import requests\n",
    "import matplotlib.pyplot as plt\n",
    "import numpy as np\n",
    "import ee\n",
    "from sql2gee import SQL2GEE\n",
    "ee.Initialize()"
   ]
  },
  {
   "cell_type": "markdown",
   "metadata": {
    "deletable": true,
    "editable": true
   },
   "source": [
    "## Vettori"
   ]
  },
  {
   "cell_type": "code",
   "execution_count": 3,
   "metadata": {
    "collapsed": true,
    "deletable": true,
    "editable": true
   },
   "outputs": [],
   "source": [
    "countries = ee.FeatureCollection('ft:1ZDEMjtnWm_smu7l_z3fx91BbxyCRzP2A3cEMrEiP')"
   ]
  },
  {
   "cell_type": "code",
   "execution_count": 7,
   "metadata": {
    "collapsed": false,
    "deletable": true,
    "editable": true
   },
   "outputs": [],
   "source": [
    "sql = 'select * from \"ft:1ZDEMjtnWm_smu7l_z3fx91BbxyCRzP2A3cEMrEiP\" LIMIT 1'\n",
    "q = SQL2GEE(sql)\n",
    "# q.response"
   ]
  },
  {
   "cell_type": "code",
   "execution_count": 9,
   "metadata": {
    "collapsed": false,
    "deletable": true,
    "editable": true
   },
   "outputs": [
    {
     "data": {
      "text/plain": [
       "u'Zambia'"
      ]
     },
     "execution_count": 9,
     "metadata": {},
     "output_type": "execute_result"
    }
   ],
   "source": [
    "sql1 = 'SELECT FIRST(name) from \"ft:1ZDEMjtnWm_smu7l_z3fx91BbxyCRzP2A3cEMrEiP\"'\n",
    "q1 = SQL2GEE(sql1)\n",
    "q1.response"
   ]
  },
  {
   "cell_type": "code",
   "execution_count": 10,
   "metadata": {
    "collapsed": false,
    "deletable": true,
    "editable": true
   },
   "outputs": [
    {
     "data": {
      "text/plain": [
       "76"
      ]
     },
     "execution_count": 10,
     "metadata": {},
     "output_type": "execute_result"
    }
   ],
   "source": [
    "sql2 = 'SELECT COUNT(name) from \"ft:1ZDEMjtnWm_smu7l_z3fx91BbxyCRzP2A3cEMrEiP\"'\n",
    "q2 = SQL2GEE(sql2)\n",
    "q2.response"
   ]
  },
  {
   "cell_type": "code",
   "execution_count": 15,
   "metadata": {
    "collapsed": false,
    "deletable": true,
    "editable": true
   },
   "outputs": [],
   "source": [
    "sql3 = 'SELECT * from \"ft:1ZDEMjtnWm_smu7l_z3fx91BbxyCRzP2A3cEMrEiP\" WHERE name = Nigeria'\n",
    "q3 = SQL2GEE(sql3)\n",
    "#q3.response"
   ]
  },
  {
   "cell_type": "code",
   "execution_count": 17,
   "metadata": {
    "collapsed": false,
    "deletable": true,
    "editable": true
   },
   "outputs": [
    {
     "data": {
      "text/plain": [
       "u'http://mw2.google.com/mw-panoramio/photos/medium/1529603.jpg'"
      ]
     },
     "execution_count": 17,
     "metadata": {},
     "output_type": "execute_result"
    }
   ],
   "source": [
    "sql4 = 'SELECT FIRST(url) from \"ft:1qpKIcYQMBsXLA9RLWCaV9D0Hus2cMQHhI-ViKHo\" WHERE height >= 500'\n",
    "q4 = SQL2GEE(sql4)\n",
    "q4.response"
   ]
  },
  {
   "cell_type": "markdown",
   "metadata": {
    "deletable": true,
    "editable": true
   },
   "source": [
    "## Rasters"
   ]
  },
  {
   "cell_type": "code",
   "execution_count": 19,
   "metadata": {
    "collapsed": false,
    "deletable": true,
    "editable": true
   },
   "outputs": [
    {
     "data": {
      "text/plain": [
       "{u'system:asset_size': 4146523356L,\n",
       " u'system:footprint': {u'coordinates': [[11.562360516350003,\n",
       "    -46.75781638473688],\n",
       "   [19.355512295139672, -46.757816388369086],\n",
       "   [32.34409871047618, -46.75781640862508],\n",
       "   [45.70378771462102, -46.7578163924676],\n",
       "   [65.0043798806843, -46.75781108593152],\n",
       "   [65.0046815570808, 51.16406073435814],\n",
       "   [48.67260743031336, 51.164066407911946],\n",
       "   [38.281738235297865, 51.16406640311927],\n",
       "   [21.953229579369797, 51.16406642236249],\n",
       "   [11.191258077987653, 51.16406642404705],\n",
       "   [-1.0551235073045255, 51.16406641569705],\n",
       "   [-14.41481236526849, 51.16406641875433],\n",
       "   [-30.00468169822897, 51.16406073295674],\n",
       "   [-30.004379812365155, -46.75781106765742],\n",
       "   [-13.30150495737998, -46.757816431790744],\n",
       "   [-1.4262259378607551, -46.75781637973961],\n",
       "   [11.562360516350003, -46.75781638473688]],\n",
       "  u'type': u'LinearRing'},\n",
       " u'system:time_end': 1483142400000.0,\n",
       " u'system:time_start': 1451606400000.0}"
      ]
     },
     "execution_count": 19,
     "metadata": {},
     "output_type": "execute_result"
    }
   ],
   "source": [
    "sql5 = 'SELECT ST_METADATA(rast) from \"projects/fao-wapor/AGBP_Annual/AGBP-2016\"'\n",
    "q5 = SQL2GEE(sql5)\n",
    "q5.response"
   ]
  },
  {
   "cell_type": "code",
   "execution_count": 20,
   "metadata": {
    "collapsed": true,
    "deletable": true,
    "editable": true
   },
   "outputs": [
    {
     "name": "stdout",
     "output_type": "stream",
     "text": [
      "b1_sum\n"
     ]
    }
   ],
   "source": [
    "for band in q5._band_names:\n",
    "     print(band)"
   ]
  },
  {
   "cell_type": "code",
   "execution_count": 23,
   "metadata": {
    "collapsed": false,
    "deletable": true,
    "editable": true
   },
   "outputs": [
    {
     "data": {
      "text/plain": [
       "{u'crs': u'EPSG:4326',\n",
       " u'crs_transform': [0.002232142857,\n",
       "  0.0,\n",
       "  -30.002232140937,\n",
       "  0.0,\n",
       "  -0.002232142857,\n",
       "  51.162946425297],\n",
       " u'data_type': {u'precision': u'double', u'type': u'PixelType'},\n",
       " u'dimensions': [42562, 43868],\n",
       " u'id': u'b1_sum'}"
      ]
     },
     "execution_count": 23,
     "metadata": {},
     "output_type": "execute_result"
    }
   ],
   "source": [
    "sql6 = 'SELECT ST_BANDMETADATA(rast,b1_sum) from \"projects/fao-wapor/AGBP_Annual/AGBP-2016\"'\n",
    "q6 = SQL2GEE(sql6)\n",
    "q6.response"
   ]
  },
  {
   "cell_type": "code",
   "execution_count": 24,
   "metadata": {
    "collapsed": false,
    "deletable": true,
    "editable": true
   },
   "outputs": [
    {
     "data": {
      "text/plain": [
       "{u'b1_sum': {'count': 3255846,\n",
       "  'max': 33106.16698375,\n",
       "  'mean': 5121.756301124844,\n",
       "  'min': 0.0,\n",
       "  'stdev': 6662.236077820174,\n",
       "  'sum': 16633434342.453007}}"
      ]
     },
     "execution_count": 24,
     "metadata": {},
     "output_type": "execute_result"
    }
   ],
   "source": [
    "sql7 = 'SELECT ST_SUMMARYSTATS() from \"projects/fao-wapor/AGBP_Annual/AGBP-2016\"'\n",
    "q7 = SQL2GEE(sql7)\n",
    "q7.response"
   ]
  },
  {
   "cell_type": "code",
   "execution_count": 27,
   "metadata": {
    "collapsed": false,
    "deletable": true,
    "editable": true
   },
   "outputs": [],
   "source": [
    "sql8 = \"SELECT ST_HISTOGRAM(rast,b1_sum, auto, true) FROM 'projects/fao-wapor/AGBP_Annual/AGBP-2016'\"\n",
    "q8 = SQL2GEE(sql8)\n",
    "#q8.response"
   ]
  },
  {
   "cell_type": "code",
   "execution_count": 37,
   "metadata": {
    "collapsed": false,
    "deletable": true,
    "editable": true
   },
   "outputs": [
    {
     "data": {
      "text/plain": [
       "<sql2gee.sql2gee.SQL2GEE at 0xaee67e4c>"
      ]
     },
     "execution_count": 37,
     "metadata": {},
     "output_type": "execute_result"
    }
   ],
   "source": [
    "gstore = \"http://staging-api.globalforestwatch.org/geostore/4531cca6a8ddcf01bccf302b3dd7ae3f\"\n",
    "r = requests.get(gstore)\n",
    "j = r.json()\n",
    "j = j.get('data').get('attributes').get('geojson')\n",
    "\n",
    "sql9 = \"SELECT ST_SUMMARYSTATS() FROM srtm90_v4\"\n",
    "q9 = SQL2GEE(sql9, geojson=j)\n",
    "q9"
   ]
  },
  {
   "cell_type": "code",
   "execution_count": 32,
   "metadata": {
    "collapsed": false,
    "deletable": true,
    "editable": true
   },
   "outputs": [
    {
     "name": "stdout",
     "output_type": "stream",
     "text": [
      "SELECT ST_SUMMARYSTATS() FROM 'srtm90_v4'WHERE ST_INTERSECTS(ST_SetSRID(ST_GeomFromGeoJSON({\"type\":\"Polygon\",\"coordinates\":[[[-43.39599609375,-4.740675384778361],[-43.39599609375,-4.959615024698014],[-43.17626953125,-4.806364708499984],[-43.39599609375,-4.740675384778361]]]}),4326), the_geom)\n"
     ]
    }
   ],
   "source": [
    "sql10 = ''.join([\"SELECT ST_SUMMARYSTATS() FROM 'srtm90_v4'\",\n",
    "                \"WHERE ST_INTERSECTS(ST_SetSRID(ST_GeomFromGeoJSON(\",\n",
    "                '{\"type\":\"Polygon\",',\n",
    "                 '\"coordinates\":[[[-43.39599609375,-4.740675384778361],'\n",
    "                 '[-43.39599609375,-4.959615024698014],'\n",
    "                 '[-43.17626953125,-4.806364708499984],'\n",
    "                 '[-43.39599609375,-4.740675384778361]]]}'\n",
    "                 \"),4326), the_geom)\"])\n",
    "print(sql10)"
   ]
  },
  {
   "cell_type": "code",
   "execution_count": 40,
   "metadata": {
    "collapsed": true
   },
   "outputs": [],
   "source": [
    "sql11 = 'SELECT ST_HISTOGRAM(raster, lossyear, 15, true) FROM \"UMD/hansen/global_forest_change_2015\"'\n",
    "q11 = SQL2GEE(sql11)\n",
    "response_ret = q11.response"
   ]
  },
  {
   "cell_type": "code",
   "execution_count": 43,
   "metadata": {},
   "outputs": [
    {
     "data": {
      "image/png": "[encoded data removed]",
      "text/plain": [
       "<matplotlib.figure.Figure at 0xaef993ac>"
      ]
     },
     "metadata": {},
     "output_type": "display_data"
    }
   ],
   "source": [
    "bin_pos = []\n",
    "counts = []\n",
    "for pair in response_ret['lossyear']:\n",
    "    bin_left, count = pair\n",
    "    bin_pos.append(bin_left)\n",
    "    counts.append(count)\n",
    "bin_pos = np.array(bin_pos)\n",
    "counts = np.array(counts)\n",
    "\n",
    "percent_value = (counts[1:]/sum(counts[1:])*100.)\n",
    "year = bin_pos[1:]+2000\n",
    "\n",
    "plt.plot(year, percent_value)\n",
    "plt.title('Of all forest lost in the last decade, \\n which year was it lost in?')\n",
    "plt.xlabel('Year')\n",
    "plt.ylabel(\"Percent (%)\")\n",
    "plt.show()"
   ]
  },
  {
   "cell_type": "code",
   "execution_count": null,
   "metadata": {},
   "outputs": [],
   "source": []
  }
 ],
 "metadata": {
  "kernelspec": {
   "display_name": "Python 2",
   "language": "python",
   "name": "python2"
  },
  "language_info": {
   "codemirror_mode": {
    "name": "ipython",
    "version": 2
   },
   "file_extension": ".py",
   "mimetype": "text/x-python",
   "name": "python",
   "nbconvert_exporter": "python",
   "pygments_lexer": "ipython2",
   "version": "2.7.12"
  }
 },
 "nbformat": 4,
 "nbformat_minor": 2
}
