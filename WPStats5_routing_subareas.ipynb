{
 "cells": [
  {
   "cell_type": "code",
   "execution_count": 11,
   "metadata": {
    "collapsed": true
   },
   "outputs": [],
   "source": [
    "import ee\n",
    "from IPython import display\n",
    "from IPython.display import Image\n",
    "import math\n",
    "import matplotlib.pyplot as plt\n",
    "from osgeo import gdal\n",
    "import tempfile\n",
    "import urllib\n",
    "import zipfile\n",
    "import os\n",
    "from mpl_toolkits.basemap import Basemap\n",
    "import numpy as np\n",
    "import datetime\n",
    "import pandas as pd\n",
    "from sql2gee import SQL2GEE"
   ]
  },
  {
   "cell_type": "code",
   "execution_count": 2,
   "metadata": {
    "collapsed": true
   },
   "outputs": [],
   "source": [
    "ee.Initialize()\n",
    "\n",
    "fusion_table = 'ft:11VR9dNmaDJj33zkB0_wT1KhuN77hbSAO4VYvk6Xq'\n",
    "fusion_table_SQL2GEE = '\"ft:11VR9dNmaDJj33zkB0_wT1KhuN77hbSAO4VYvk6Xq\"'\n",
    "countries_gaul = ee.FeatureCollection(fusion_table)\n",
    "\n",
    "# AREA OF INTEREST\n",
    "region_L1 = ee.Geometry.Polygon([[[-30, -40], [65, -30], [65, 40], [-30, 40]]])\n",
    "region_json= [[-30, -40], [65, -30], [65, 40], [-30, 40]]"
   ]
  },
  {
   "cell_type": "code",
   "execution_count": 3,
   "metadata": {},
   "outputs": [
    {
     "data": {
      "text/plain": [
       "87"
      ]
     },
     "execution_count": 3,
     "metadata": {},
     "output_type": "execute_result"
    }
   ],
   "source": [
    "sql_0 = 'select COUNT(name) from ' + fusion_table_SQL2GEE \n",
    "q_0 = SQL2GEE(sql_0)\n",
    "q_0.response"
   ]
  },
  {
   "cell_type": "code",
   "execution_count": 4,
   "metadata": {
    "collapsed": true
   },
   "outputs": [],
   "source": [
    "sql_1 = 'select * from ' + fusion_table_SQL2GEE + ' WHERE name = Syria'\n",
    "q_1 = SQL2GEE(sql_1)\n",
    "#q_1.response"
   ]
  },
  {
   "cell_type": "markdown",
   "metadata": {},
   "source": [
    "# <span style=\"color:red\">INPUTS</span> "
   ]
  },
  {
   "cell_type": "code",
   "execution_count": 53,
   "metadata": {},
   "outputs": [
    {
     "data": {
      "text/plain": [
       "'WPnb'"
      ]
     },
     "execution_count": 53,
     "metadata": {},
     "output_type": "execute_result"
    }
   ],
   "source": [
    "subregions = {\n",
    "  'na': 'Northern Africa',\n",
    "  'ma': 'Middle Africa',\n",
    "  'wa': 'Western Africa', \n",
    "  'ea': 'Eastern Africa',\n",
    "  'sa': 'Southern Africa', \n",
    "  'ws': 'Western Asia',\n",
    "  'ss': 'Southern Asia'\n",
    "}\n",
    "\n",
    "#name_asset = 'AET_Annual'\n",
    "#name_asset = 'AGBP_Annual'\n",
    "#name_asset = 'T_Annual'\n",
    "#name_asset = 'WPbm'\n",
    "name_asset = 'WPnb'\n",
    "radice_dataset = (name_asset.split(\"_\")[0]) #.lower()\n",
    "radice_dataset"
   ]
  },
  {
   "cell_type": "code",
   "execution_count": 66,
   "metadata": {},
   "outputs": [],
   "source": [
    "# Only change\n",
    "year = 2016\n"
   ]
  },
  {
   "cell_type": "code",
   "execution_count": 67,
   "metadata": {
    "scrolled": true
   },
   "outputs": [
    {
     "name": "stdout",
     "output_type": "stream",
     "text": [
      "projects/fao-wapor/WPnb/WPnb-2016\n",
      "('Image scale: ', 248.48100621908284)\n",
      "WPnb_2016_ma\n",
      "WPnb_2016_wa\n",
      "WPnb_2016_ss\n",
      "WPnb_2016_na\n",
      "WPnb_2016_ea\n",
      "WPnb_2016_ws\n",
      "WPnb_2016_sa\n"
     ]
    }
   ],
   "source": [
    "radice = 'projects/fao-wapor/'\n",
    "#raster_name = radice + name_asset + \"/\" + radice_dataset + \"-\" + str(year)\n",
    "#raster_name = radice + name_asset + \"/\" + radice_dataset + \"_Annual-\" + str(year)\n",
    "raster_name = radice + name_asset + \"/\" + radice_dataset + \"-\" + str(year)\n",
    "print(raster_name)\n",
    "raster_stats = ee.Image(raster_name).toFloat()\n",
    "scale_calc = ee.Image(raster_stats).projection().nominalScale().getInfo()\n",
    "print('Image scale: ', scale_calc)    \n",
    "for code,subregion in subregions.iteritems():    \n",
    "    selected_subregion = subregions[code]    \n",
    "    filtered = countries_gaul.filter(ee.Filter.eq('subregion', selected_subregion))\n",
    "    country_number = filtered.size().getInfo()     \n",
    "    prefix = raster_name.split(\"/\")[2] \n",
    "    \n",
    "    means = raster_stats.reduceRegions(\n",
    "    collection = filtered,\n",
    "    reducer = ee.Reducer.mean(),\n",
    "    scale = scale_calc,\n",
    "    )\n",
    "\n",
    "    reducers = ee.Reducer.minMax().combine(\n",
    "        reducer2 = ee.Reducer.sum(),\n",
    "        sharedInputs = True\n",
    "    )\n",
    "\n",
    "    minMaxStds = raster_stats.reduceRegions(\n",
    "                collection = filtered,\n",
    "                reducer = reducers,\n",
    "                scale = scale_calc,\n",
    "    )\n",
    "    \n",
    "    features_m = means.getInfo()['features']\n",
    "    features_mms = minMaxStds.getInfo()['features']\n",
    "    df_m = pd.DataFrame(data=features_m[0:], columns = features_m[0])\n",
    "    df_mms = pd.DataFrame(data=features_mms[0:], columns = features_mms[0])\n",
    "    serie_m = df_m['properties'].apply(pd.Series)\n",
    "    serie_mms = df_mms['properties'].apply(pd.Series)\n",
    "    df_m = pd.DataFrame(serie_m[['fid', 'gaul_code', 'iso3', 'mean', 'name', 'region','subregion']])\n",
    "    df_mms = pd.DataFrame(serie_mms[['fid', 'min', 'max','sum']])\n",
    "    df_stats = df_m.set_index('fid').join(df_mms.set_index('fid'), lsuffix='_df_m', rsuffix='_df_mms')\n",
    "    df_stats.index = df_stats.index.astype(int)\n",
    "    df_stats['year'] = year\n",
    "    df_stats['year'] = df_stats['year'].astype(int)\n",
    "    df_stats['gaul_code'] = df_stats['gaul_code'].astype(int)\n",
    "    df_stats['gee_asset'] = name_asset\n",
    "    for col in ['name', 'region', 'subregion', 'gee_asset']:           \n",
    "        df_stats[col] = df_stats[col].astype('str')\n",
    "    file_name = name_asset + \"_\" + str(year) + \"_\" + code \n",
    "    print(file_name)\n",
    "    df_stats.to_csv('stats/'+ radice_dataset.lower() + \"_stats/\" + file_name + '.csv')"
   ]
  },
  {
   "cell_type": "code",
   "execution_count": null,
   "metadata": {
    "collapsed": true
   },
   "outputs": [],
   "source": []
  },
  {
   "cell_type": "code",
   "execution_count": 86,
   "metadata": {},
   "outputs": [
    {
     "name": "stdout",
     "output_type": "stream",
     "text": [
      "stats/agbp_stats\n",
      "49\n"
     ]
    }
   ],
   "source": [
    "import glob\n",
    "import os.path\n",
    "\n",
    "radice_dataset_l = radice_dataset.lower()\n",
    "path ='stats/' + radice_dataset_l + '_stats'\n",
    "print path\n",
    "fname = 'stats/' + radice_dataset_l + '_annual.csv'\n",
    "\n",
    "allFiles = glob.glob(path + \"/*.csv\")\n",
    "print len(allFiles)\n",
    "if len(allFiles)==49:\n",
    "    frame = pd.DataFrame()\n",
    "    list_ = []\n",
    "    for file_ in allFiles:\n",
    "        df = pd.read_csv(file_, index_col=None, header=0)\n",
    "        list_.append(df)\n",
    "    frame = pd.concat(list_)\n",
    "    frame['fid'] = frame['fid'].astype(int)\n",
    "    frame = frame.set_index('fid')\n",
    "\n",
    "    try:\n",
    "        os.remove(fname)\n",
    "    except OSError:\n",
    "        pass\n",
    "    frame.to_csv(fname)\n",
    "else:\n",
    "    print \"Not completed\""
   ]
  },
  {
   "cell_type": "code",
   "execution_count": null,
   "metadata": {
    "collapsed": true
   },
   "outputs": [],
   "source": []
  }
 ],
 "metadata": {
  "kernelspec": {
   "display_name": "Python 2",
   "language": "python",
   "name": "python2"
  },
  "language_info": {
   "codemirror_mode": {
    "name": "ipython",
    "version": 2
   },
   "file_extension": ".py",
   "mimetype": "text/x-python",
   "name": "python",
   "nbconvert_exporter": "python",
   "pygments_lexer": "ipython2",
   "version": "2.7.12"
  }
 },
 "nbformat": 4,
 "nbformat_minor": 2
}
