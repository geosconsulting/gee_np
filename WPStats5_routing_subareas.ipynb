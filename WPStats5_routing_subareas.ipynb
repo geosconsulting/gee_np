{
 "cells": [
  {
   "cell_type": "code",
   "execution_count": 8,
   "metadata": {
    "collapsed": true
   },
   "outputs": [],
   "source": [
    "import ee\n",
    "from IPython import display\n",
    "from IPython.display import Image\n",
    "import math\n",
    "import matplotlib.pyplot as plt\n",
    "from osgeo import gdal\n",
    "import tempfile\n",
    "import urllib\n",
    "import zipfile\n",
    "from mpl_toolkits.basemap import Basemap\n",
    "import numpy as np\n",
    "import datetime\n",
    "import pandas as pd"
   ]
  },
  {
   "cell_type": "code",
   "execution_count": 9,
   "metadata": {
    "collapsed": true
   },
   "outputs": [],
   "source": [
    "ee.Initialize()\n",
    "\n",
    "# VETTORI 1EGLF7Gh-5Z3Zt9pxdKF-jBDtxQ-DnpJzz9D1BGQJ\n",
    "countries_gaul = ee.FeatureCollection('ft:1ZDEMjtnWm_smu7l_z3fx91BbxyCRzP2A3cEMrEiP')\n",
    "\n",
    "# AREA OF INTEREST\n",
    "region_L1 = ee.Geometry.Polygon([[[-30, -40], [65, -30], [65, 40], [-30, 40]]])\n",
    "region_json= [[-30, -40], [65, -30], [65, 40], [-30, 40]]"
   ]
  },
  {
   "cell_type": "markdown",
   "metadata": {},
   "source": [
    "# <span style=\"color:red\">INPUTS</span> "
   ]
  },
  {
   "cell_type": "code",
   "execution_count": 43,
   "metadata": {
    "collapsed": true
   },
   "outputs": [],
   "source": [
    "subregions = {\n",
    "  'na': 'Northern Africa',\n",
    "  'ma': 'Middle Africa',\n",
    "  'wa': 'Western Africa', \n",
    "  'ea': 'Eastern Africa',\n",
    "  'sa': 'Southern Africa', \n",
    "  'ws': 'Western Asia'\n",
    "}\n",
    "\n",
    "year = 2016\n",
    "name_asset = 'T_Annual'"
   ]
  },
  {
   "cell_type": "code",
   "execution_count": 44,
   "metadata": {},
   "outputs": [
    {
     "name": "stdout",
     "output_type": "stream",
     "text": [
      "projects/fao-wapor/T_Annual/T_Annual-2016\n",
      "('Image scale: ', 248.48100621908284)\n",
      "T_Annual_2016_ma\n",
      "T_Annual_2016_wa\n",
      "T_Annual_2016_na\n",
      "T_Annual_2016_ea\n",
      "T_Annual_2016_ws\n",
      "T_Annual_2016_sa\n"
     ]
    }
   ],
   "source": [
    "radice = 'projects/fao-wapor/'\n",
    "raster_name = radice + name_asset + \"/\" + name_asset + \"-\" + str(year)\n",
    "print(raster_name)\n",
    "raster_stats = ee.Image(raster_name).toFloat()\n",
    "scale_calc = ee.Image(raster_stats).projection().nominalScale().getInfo()\n",
    "print('Image scale: ', scale_calc)    \n",
    "for code,subregion in subregions.iteritems():\n",
    "    #print(code)\n",
    "    selected_subregion = subregions[code]\n",
    "    #print selected_subregion\n",
    "    filtered = countries_gaul.filter(ee.Filter.eq('subregion', selected_subregion))\n",
    "    country_number = filtered.size().getInfo()\n",
    "    #print(country_number)    \n",
    "    prefix = raster_name.split(\"/\")[2] \n",
    "    means = raster_stats.reduceRegions(\n",
    "    collection = filtered,\n",
    "    reducer = ee.Reducer.mean(),\n",
    "    scale = scale_calc,\n",
    "    )\n",
    "\n",
    "    reducers = ee.Reducer.minMax().combine(\n",
    "        reducer2 = ee.Reducer.sum(),\n",
    "        sharedInputs = True\n",
    "    )\n",
    "\n",
    "    minMaxStds = raster_stats.reduceRegions(\n",
    "                collection = filtered,\n",
    "                reducer = reducers,\n",
    "                scale = scale_calc,\n",
    "    )\n",
    "    features_m = means.getInfo()['features']\n",
    "    features_mms = minMaxStds.getInfo()['features']\n",
    "    df_m = pd.DataFrame(data=features_m[0:], columns = features_m[0])\n",
    "    df_mms = pd.DataFrame(data=features_mms[0:], columns = features_mms[0])\n",
    "    serie_m = df_m['properties'].apply(pd.Series)\n",
    "    serie_mms = df_mms['properties'].apply(pd.Series)\n",
    "    df_m = pd.DataFrame(serie_m[['fid', 'gaul_code', 'iso3', 'mean', 'name', 'region','subregion']])\n",
    "    df_mms = pd.DataFrame(serie_mms[['fid', 'min', 'max','sum']])\n",
    "    df_stats = df_m.set_index('fid').join(df_mms.set_index('fid'), lsuffix='_df_m', rsuffix='_df_mms')\n",
    "    file_name = name_asset + \"_\" + str(year) + \"_\" + code \n",
    "    print(file_name)\n",
    "    df_stats.to_csv('stats/' + file_name + '.csv')"
   ]
  },
  {
   "cell_type": "code",
   "execution_count": null,
   "metadata": {
    "collapsed": true
   },
   "outputs": [],
   "source": []
  }
 ],
 "metadata": {
  "kernelspec": {
   "display_name": "Python 2",
   "language": "python",
   "name": "python2"
  },
  "language_info": {
   "codemirror_mode": {
    "name": "ipython",
    "version": 2
   },
   "file_extension": ".py",
   "mimetype": "text/x-python",
   "name": "python",
   "nbconvert_exporter": "python",
   "pygments_lexer": "ipython2",
   "version": "2.7.12"
  }
 },
 "nbformat": 4,
 "nbformat_minor": 2
}
